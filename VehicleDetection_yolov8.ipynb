{
  "cells": [
    {
      "cell_type": "markdown",
      "metadata": {
        "id": "view-in-github",
        "colab_type": "text"
      },
      "source": [
        "<a href=\"https://colab.research.google.com/github/AK-2406/Vehicle-Detection-Model/blob/main/VehicleDetection_yolov8.ipynb\" target=\"_parent\"><img src=\"https://colab.research.google.com/assets/colab-badge.svg\" alt=\"Open In Colab\"/></a>"
      ]
    },
    {
      "cell_type": "code",
      "execution_count": 1,
      "metadata": {
        "colab": {
          "base_uri": "https://localhost:8080/"
        },
        "id": "aTZtV2qTpVCd",
        "outputId": "f8559564-040b-4131-a1c0-d7fbfb5d7d9c"
      },
      "outputs": [
        {
          "output_type": "stream",
          "name": "stdout",
          "text": [
            "Requirement already satisfied: ultralytics in /usr/local/lib/python3.11/dist-packages (8.3.68)\n",
            "Requirement already satisfied: numpy>=1.23.0 in /usr/local/lib/python3.11/dist-packages (from ultralytics) (1.26.4)\n",
            "Requirement already satisfied: matplotlib>=3.3.0 in /usr/local/lib/python3.11/dist-packages (from ultralytics) (3.10.0)\n",
            "Requirement already satisfied: opencv-python>=4.6.0 in /usr/local/lib/python3.11/dist-packages (from ultralytics) (4.10.0.84)\n",
            "Requirement already satisfied: pillow>=7.1.2 in /usr/local/lib/python3.11/dist-packages (from ultralytics) (11.1.0)\n",
            "Requirement already satisfied: pyyaml>=5.3.1 in /usr/local/lib/python3.11/dist-packages (from ultralytics) (6.0.2)\n",
            "Requirement already satisfied: requests>=2.23.0 in /usr/local/lib/python3.11/dist-packages (from ultralytics) (2.32.3)\n",
            "Requirement already satisfied: scipy>=1.4.1 in /usr/local/lib/python3.11/dist-packages (from ultralytics) (1.13.1)\n",
            "Requirement already satisfied: torch>=1.8.0 in /usr/local/lib/python3.11/dist-packages (from ultralytics) (2.5.1+cu121)\n",
            "Requirement already satisfied: torchvision>=0.9.0 in /usr/local/lib/python3.11/dist-packages (from ultralytics) (0.20.1+cu121)\n",
            "Requirement already satisfied: tqdm>=4.64.0 in /usr/local/lib/python3.11/dist-packages (from ultralytics) (4.67.1)\n",
            "Requirement already satisfied: psutil in /usr/local/lib/python3.11/dist-packages (from ultralytics) (5.9.5)\n",
            "Requirement already satisfied: py-cpuinfo in /usr/local/lib/python3.11/dist-packages (from ultralytics) (9.0.0)\n",
            "Requirement already satisfied: pandas>=1.1.4 in /usr/local/lib/python3.11/dist-packages (from ultralytics) (2.2.2)\n",
            "Requirement already satisfied: seaborn>=0.11.0 in /usr/local/lib/python3.11/dist-packages (from ultralytics) (0.13.2)\n",
            "Requirement already satisfied: ultralytics-thop>=2.0.0 in /usr/local/lib/python3.11/dist-packages (from ultralytics) (2.0.14)\n",
            "Requirement already satisfied: contourpy>=1.0.1 in /usr/local/lib/python3.11/dist-packages (from matplotlib>=3.3.0->ultralytics) (1.3.1)\n",
            "Requirement already satisfied: cycler>=0.10 in /usr/local/lib/python3.11/dist-packages (from matplotlib>=3.3.0->ultralytics) (0.12.1)\n",
            "Requirement already satisfied: fonttools>=4.22.0 in /usr/local/lib/python3.11/dist-packages (from matplotlib>=3.3.0->ultralytics) (4.55.4)\n",
            "Requirement already satisfied: kiwisolver>=1.3.1 in /usr/local/lib/python3.11/dist-packages (from matplotlib>=3.3.0->ultralytics) (1.4.8)\n",
            "Requirement already satisfied: packaging>=20.0 in /usr/local/lib/python3.11/dist-packages (from matplotlib>=3.3.0->ultralytics) (24.2)\n",
            "Requirement already satisfied: pyparsing>=2.3.1 in /usr/local/lib/python3.11/dist-packages (from matplotlib>=3.3.0->ultralytics) (3.2.1)\n",
            "Requirement already satisfied: python-dateutil>=2.7 in /usr/local/lib/python3.11/dist-packages (from matplotlib>=3.3.0->ultralytics) (2.8.2)\n",
            "Requirement already satisfied: pytz>=2020.1 in /usr/local/lib/python3.11/dist-packages (from pandas>=1.1.4->ultralytics) (2024.2)\n",
            "Requirement already satisfied: tzdata>=2022.7 in /usr/local/lib/python3.11/dist-packages (from pandas>=1.1.4->ultralytics) (2025.1)\n",
            "Requirement already satisfied: charset-normalizer<4,>=2 in /usr/local/lib/python3.11/dist-packages (from requests>=2.23.0->ultralytics) (3.4.1)\n",
            "Requirement already satisfied: idna<4,>=2.5 in /usr/local/lib/python3.11/dist-packages (from requests>=2.23.0->ultralytics) (3.7)\n",
            "Requirement already satisfied: urllib3<3,>=1.21.1 in /usr/local/lib/python3.11/dist-packages (from requests>=2.23.0->ultralytics) (2.3.0)\n",
            "Requirement already satisfied: certifi>=2017.4.17 in /usr/local/lib/python3.11/dist-packages (from requests>=2.23.0->ultralytics) (2024.12.14)\n",
            "Requirement already satisfied: filelock in /usr/local/lib/python3.11/dist-packages (from torch>=1.8.0->ultralytics) (3.17.0)\n",
            "Requirement already satisfied: typing-extensions>=4.8.0 in /usr/local/lib/python3.11/dist-packages (from torch>=1.8.0->ultralytics) (4.12.2)\n",
            "Requirement already satisfied: networkx in /usr/local/lib/python3.11/dist-packages (from torch>=1.8.0->ultralytics) (3.4.2)\n",
            "Requirement already satisfied: jinja2 in /usr/local/lib/python3.11/dist-packages (from torch>=1.8.0->ultralytics) (3.1.5)\n",
            "Requirement already satisfied: fsspec in /usr/local/lib/python3.11/dist-packages (from torch>=1.8.0->ultralytics) (2024.10.0)\n",
            "Requirement already satisfied: nvidia-cuda-nvrtc-cu12==12.1.105 in /usr/local/lib/python3.11/dist-packages (from torch>=1.8.0->ultralytics) (12.1.105)\n",
            "Requirement already satisfied: nvidia-cuda-runtime-cu12==12.1.105 in /usr/local/lib/python3.11/dist-packages (from torch>=1.8.0->ultralytics) (12.1.105)\n",
            "Requirement already satisfied: nvidia-cuda-cupti-cu12==12.1.105 in /usr/local/lib/python3.11/dist-packages (from torch>=1.8.0->ultralytics) (12.1.105)\n",
            "Requirement already satisfied: nvidia-cudnn-cu12==9.1.0.70 in /usr/local/lib/python3.11/dist-packages (from torch>=1.8.0->ultralytics) (9.1.0.70)\n",
            "Requirement already satisfied: nvidia-cublas-cu12==12.1.3.1 in /usr/local/lib/python3.11/dist-packages (from torch>=1.8.0->ultralytics) (12.1.3.1)\n",
            "Requirement already satisfied: nvidia-cufft-cu12==11.0.2.54 in /usr/local/lib/python3.11/dist-packages (from torch>=1.8.0->ultralytics) (11.0.2.54)\n",
            "Requirement already satisfied: nvidia-curand-cu12==10.3.2.106 in /usr/local/lib/python3.11/dist-packages (from torch>=1.8.0->ultralytics) (10.3.2.106)\n",
            "Requirement already satisfied: nvidia-cusolver-cu12==11.4.5.107 in /usr/local/lib/python3.11/dist-packages (from torch>=1.8.0->ultralytics) (11.4.5.107)\n",
            "Requirement already satisfied: nvidia-cusparse-cu12==12.1.0.106 in /usr/local/lib/python3.11/dist-packages (from torch>=1.8.0->ultralytics) (12.1.0.106)\n",
            "Requirement already satisfied: nvidia-nccl-cu12==2.21.5 in /usr/local/lib/python3.11/dist-packages (from torch>=1.8.0->ultralytics) (2.21.5)\n",
            "Requirement already satisfied: nvidia-nvtx-cu12==12.1.105 in /usr/local/lib/python3.11/dist-packages (from torch>=1.8.0->ultralytics) (12.1.105)\n",
            "Requirement already satisfied: triton==3.1.0 in /usr/local/lib/python3.11/dist-packages (from torch>=1.8.0->ultralytics) (3.1.0)\n",
            "Requirement already satisfied: sympy==1.13.1 in /usr/local/lib/python3.11/dist-packages (from torch>=1.8.0->ultralytics) (1.13.1)\n",
            "Requirement already satisfied: nvidia-nvjitlink-cu12 in /usr/local/lib/python3.11/dist-packages (from nvidia-cusolver-cu12==11.4.5.107->torch>=1.8.0->ultralytics) (12.6.85)\n",
            "Requirement already satisfied: mpmath<1.4,>=1.1.0 in /usr/local/lib/python3.11/dist-packages (from sympy==1.13.1->torch>=1.8.0->ultralytics) (1.3.0)\n",
            "Requirement already satisfied: six>=1.5 in /usr/local/lib/python3.11/dist-packages (from python-dateutil>=2.7->matplotlib>=3.3.0->ultralytics) (1.17.0)\n",
            "Requirement already satisfied: MarkupSafe>=2.0 in /usr/local/lib/python3.11/dist-packages (from jinja2->torch>=1.8.0->ultralytics) (3.0.2)\n"
          ]
        }
      ],
      "source": [
        "!pip install ultralytics"
      ]
    },
    {
      "cell_type": "code",
      "execution_count": 2,
      "metadata": {
        "id": "FwHNnZHEplPk"
      },
      "outputs": [],
      "source": [
        "import os\n",
        "from ultralytics import YOLO\n",
        "import matplotlib.pyplot as plt\n",
        "os.environ['WANDB_DISABLED'] = '0'\n",
        "dir = 'data'"
      ]
    },
    {
      "cell_type": "code",
      "execution_count": null,
      "metadata": {
        "colab": {
          "base_uri": "https://localhost:8080/",
          "height": 38
        },
        "id": "9F3RXzwEpnfJ",
        "outputId": "d8519569-ae5e-4251-9c84-ebeb3f5ea40f"
      },
      "outputs": [
        {
          "output_type": "display_data",
          "data": {
            "text/plain": [
              "<IPython.core.display.HTML object>"
            ],
            "text/html": [
              "\n",
              "     <input type=\"file\" id=\"files-769edf92-1c3b-4b16-b96a-4beda29414df\" name=\"files[]\" multiple disabled\n",
              "        style=\"border:none\" />\n",
              "     <output id=\"result-769edf92-1c3b-4b16-b96a-4beda29414df\">\n",
              "      Upload widget is only available when the cell has been executed in the\n",
              "      current browser session. Please rerun this cell to enable.\n",
              "      </output>\n",
              "      <script>// Copyright 2017 Google LLC\n",
              "//\n",
              "// Licensed under the Apache License, Version 2.0 (the \"License\");\n",
              "// you may not use this file except in compliance with the License.\n",
              "// You may obtain a copy of the License at\n",
              "//\n",
              "//      http://www.apache.org/licenses/LICENSE-2.0\n",
              "//\n",
              "// Unless required by applicable law or agreed to in writing, software\n",
              "// distributed under the License is distributed on an \"AS IS\" BASIS,\n",
              "// WITHOUT WARRANTIES OR CONDITIONS OF ANY KIND, either express or implied.\n",
              "// See the License for the specific language governing permissions and\n",
              "// limitations under the License.\n",
              "\n",
              "/**\n",
              " * @fileoverview Helpers for google.colab Python module.\n",
              " */\n",
              "(function(scope) {\n",
              "function span(text, styleAttributes = {}) {\n",
              "  const element = document.createElement('span');\n",
              "  element.textContent = text;\n",
              "  for (const key of Object.keys(styleAttributes)) {\n",
              "    element.style[key] = styleAttributes[key];\n",
              "  }\n",
              "  return element;\n",
              "}\n",
              "\n",
              "// Max number of bytes which will be uploaded at a time.\n",
              "const MAX_PAYLOAD_SIZE = 100 * 1024;\n",
              "\n",
              "function _uploadFiles(inputId, outputId) {\n",
              "  const steps = uploadFilesStep(inputId, outputId);\n",
              "  const outputElement = document.getElementById(outputId);\n",
              "  // Cache steps on the outputElement to make it available for the next call\n",
              "  // to uploadFilesContinue from Python.\n",
              "  outputElement.steps = steps;\n",
              "\n",
              "  return _uploadFilesContinue(outputId);\n",
              "}\n",
              "\n",
              "// This is roughly an async generator (not supported in the browser yet),\n",
              "// where there are multiple asynchronous steps and the Python side is going\n",
              "// to poll for completion of each step.\n",
              "// This uses a Promise to block the python side on completion of each step,\n",
              "// then passes the result of the previous step as the input to the next step.\n",
              "function _uploadFilesContinue(outputId) {\n",
              "  const outputElement = document.getElementById(outputId);\n",
              "  const steps = outputElement.steps;\n",
              "\n",
              "  const next = steps.next(outputElement.lastPromiseValue);\n",
              "  return Promise.resolve(next.value.promise).then((value) => {\n",
              "    // Cache the last promise value to make it available to the next\n",
              "    // step of the generator.\n",
              "    outputElement.lastPromiseValue = value;\n",
              "    return next.value.response;\n",
              "  });\n",
              "}\n",
              "\n",
              "/**\n",
              " * Generator function which is called between each async step of the upload\n",
              " * process.\n",
              " * @param {string} inputId Element ID of the input file picker element.\n",
              " * @param {string} outputId Element ID of the output display.\n",
              " * @return {!Iterable<!Object>} Iterable of next steps.\n",
              " */\n",
              "function* uploadFilesStep(inputId, outputId) {\n",
              "  const inputElement = document.getElementById(inputId);\n",
              "  inputElement.disabled = false;\n",
              "\n",
              "  const outputElement = document.getElementById(outputId);\n",
              "  outputElement.innerHTML = '';\n",
              "\n",
              "  const pickedPromise = new Promise((resolve) => {\n",
              "    inputElement.addEventListener('change', (e) => {\n",
              "      resolve(e.target.files);\n",
              "    });\n",
              "  });\n",
              "\n",
              "  const cancel = document.createElement('button');\n",
              "  inputElement.parentElement.appendChild(cancel);\n",
              "  cancel.textContent = 'Cancel upload';\n",
              "  const cancelPromise = new Promise((resolve) => {\n",
              "    cancel.onclick = () => {\n",
              "      resolve(null);\n",
              "    };\n",
              "  });\n",
              "\n",
              "  // Wait for the user to pick the files.\n",
              "  const files = yield {\n",
              "    promise: Promise.race([pickedPromise, cancelPromise]),\n",
              "    response: {\n",
              "      action: 'starting',\n",
              "    }\n",
              "  };\n",
              "\n",
              "  cancel.remove();\n",
              "\n",
              "  // Disable the input element since further picks are not allowed.\n",
              "  inputElement.disabled = true;\n",
              "\n",
              "  if (!files) {\n",
              "    return {\n",
              "      response: {\n",
              "        action: 'complete',\n",
              "      }\n",
              "    };\n",
              "  }\n",
              "\n",
              "  for (const file of files) {\n",
              "    const li = document.createElement('li');\n",
              "    li.append(span(file.name, {fontWeight: 'bold'}));\n",
              "    li.append(span(\n",
              "        `(${file.type || 'n/a'}) - ${file.size} bytes, ` +\n",
              "        `last modified: ${\n",
              "            file.lastModifiedDate ? file.lastModifiedDate.toLocaleDateString() :\n",
              "                                    'n/a'} - `));\n",
              "    const percent = span('0% done');\n",
              "    li.appendChild(percent);\n",
              "\n",
              "    outputElement.appendChild(li);\n",
              "\n",
              "    const fileDataPromise = new Promise((resolve) => {\n",
              "      const reader = new FileReader();\n",
              "      reader.onload = (e) => {\n",
              "        resolve(e.target.result);\n",
              "      };\n",
              "      reader.readAsArrayBuffer(file);\n",
              "    });\n",
              "    // Wait for the data to be ready.\n",
              "    let fileData = yield {\n",
              "      promise: fileDataPromise,\n",
              "      response: {\n",
              "        action: 'continue',\n",
              "      }\n",
              "    };\n",
              "\n",
              "    // Use a chunked sending to avoid message size limits. See b/62115660.\n",
              "    let position = 0;\n",
              "    do {\n",
              "      const length = Math.min(fileData.byteLength - position, MAX_PAYLOAD_SIZE);\n",
              "      const chunk = new Uint8Array(fileData, position, length);\n",
              "      position += length;\n",
              "\n",
              "      const base64 = btoa(String.fromCharCode.apply(null, chunk));\n",
              "      yield {\n",
              "        response: {\n",
              "          action: 'append',\n",
              "          file: file.name,\n",
              "          data: base64,\n",
              "        },\n",
              "      };\n",
              "\n",
              "      let percentDone = fileData.byteLength === 0 ?\n",
              "          100 :\n",
              "          Math.round((position / fileData.byteLength) * 100);\n",
              "      percent.textContent = `${percentDone}% done`;\n",
              "\n",
              "    } while (position < fileData.byteLength);\n",
              "  }\n",
              "\n",
              "  // All done.\n",
              "  yield {\n",
              "    response: {\n",
              "      action: 'complete',\n",
              "    }\n",
              "  };\n",
              "}\n",
              "\n",
              "scope.google = scope.google || {};\n",
              "scope.google.colab = scope.google.colab || {};\n",
              "scope.google.colab._files = {\n",
              "  _uploadFiles,\n",
              "  _uploadFilesContinue,\n",
              "};\n",
              "})(self);\n",
              "</script> "
            ]
          },
          "metadata": {}
        }
      ],
      "source": [
        "from google.colab import files\n",
        "uploaded=files.upload()\n"
      ]
    },
    {
      "cell_type": "code",
      "execution_count": 3,
      "metadata": {
        "colab": {
          "base_uri": "https://localhost:8080/"
        },
        "id": "TZlM1h9epvDY",
        "outputId": "45146e35-c70f-4441-b31c-bfbeef898643"
      },
      "outputs": [
        {
          "output_type": "stream",
          "name": "stdout",
          "text": [
            "Downloading https://github.com/ultralytics/assets/releases/download/v8.3.0/yolov8n.pt to 'yolov8n.pt'...\n"
          ]
        },
        {
          "output_type": "stream",
          "name": "stderr",
          "text": [
            "100%|██████████| 6.25M/6.25M [00:00<00:00, 108MB/s]\n"
          ]
        }
      ],
      "source": [
        "model = YOLO('yolov8n.pt')\n"
      ]
    },
    {
      "cell_type": "code",
      "execution_count": 4,
      "metadata": {
        "colab": {
          "base_uri": "https://localhost:8080/"
        },
        "id": "BONYshfetin3",
        "outputId": "47fc6889-868e-4e1b-f4ec-28799b2e92ba"
      },
      "outputs": [
        {
          "output_type": "stream",
          "name": "stdout",
          "text": [
            "Requirement already satisfied: roboflow in /usr/local/lib/python3.11/dist-packages (1.1.51)\n",
            "Requirement already satisfied: certifi in /usr/local/lib/python3.11/dist-packages (from roboflow) (2024.12.14)\n",
            "Requirement already satisfied: idna==3.7 in /usr/local/lib/python3.11/dist-packages (from roboflow) (3.7)\n",
            "Requirement already satisfied: cycler in /usr/local/lib/python3.11/dist-packages (from roboflow) (0.12.1)\n",
            "Requirement already satisfied: kiwisolver>=1.3.1 in /usr/local/lib/python3.11/dist-packages (from roboflow) (1.4.8)\n",
            "Requirement already satisfied: matplotlib in /usr/local/lib/python3.11/dist-packages (from roboflow) (3.10.0)\n",
            "Requirement already satisfied: numpy>=1.18.5 in /usr/local/lib/python3.11/dist-packages (from roboflow) (1.26.4)\n",
            "Requirement already satisfied: opencv-python-headless==4.10.0.84 in /usr/local/lib/python3.11/dist-packages (from roboflow) (4.10.0.84)\n",
            "Requirement already satisfied: Pillow>=7.1.2 in /usr/local/lib/python3.11/dist-packages (from roboflow) (11.1.0)\n",
            "Requirement already satisfied: python-dateutil in /usr/local/lib/python3.11/dist-packages (from roboflow) (2.8.2)\n",
            "Requirement already satisfied: python-dotenv in /usr/local/lib/python3.11/dist-packages (from roboflow) (1.0.1)\n",
            "Requirement already satisfied: requests in /usr/local/lib/python3.11/dist-packages (from roboflow) (2.32.3)\n",
            "Requirement already satisfied: six in /usr/local/lib/python3.11/dist-packages (from roboflow) (1.17.0)\n",
            "Requirement already satisfied: urllib3>=1.26.6 in /usr/local/lib/python3.11/dist-packages (from roboflow) (2.3.0)\n",
            "Requirement already satisfied: tqdm>=4.41.0 in /usr/local/lib/python3.11/dist-packages (from roboflow) (4.67.1)\n",
            "Requirement already satisfied: PyYAML>=5.3.1 in /usr/local/lib/python3.11/dist-packages (from roboflow) (6.0.2)\n",
            "Requirement already satisfied: requests-toolbelt in /usr/local/lib/python3.11/dist-packages (from roboflow) (1.0.0)\n",
            "Requirement already satisfied: filetype in /usr/local/lib/python3.11/dist-packages (from roboflow) (1.2.0)\n",
            "Requirement already satisfied: contourpy>=1.0.1 in /usr/local/lib/python3.11/dist-packages (from matplotlib->roboflow) (1.3.1)\n",
            "Requirement already satisfied: fonttools>=4.22.0 in /usr/local/lib/python3.11/dist-packages (from matplotlib->roboflow) (4.55.4)\n",
            "Requirement already satisfied: packaging>=20.0 in /usr/local/lib/python3.11/dist-packages (from matplotlib->roboflow) (24.2)\n",
            "Requirement already satisfied: pyparsing>=2.3.1 in /usr/local/lib/python3.11/dist-packages (from matplotlib->roboflow) (3.2.1)\n",
            "Requirement already satisfied: charset-normalizer<4,>=2 in /usr/local/lib/python3.11/dist-packages (from requests->roboflow) (3.4.1)\n"
          ]
        }
      ],
      "source": [
        "!pip install roboflow"
      ]
    },
    {
      "cell_type": "code",
      "execution_count": null,
      "metadata": {
        "id": "3edVfxXip0vQ"
      },
      "outputs": [],
      "source": [
        "#from roboflow import Roboflow\n",
        "#rf = Roboflow(api_key=\"CyzE7fZ18Z7HBgbsL38M\")\n",
        "#project = rf.workspace(\"yolo-trials\").project(\"vehicle-detection-eckrb\")\n",
        "#version = project.version(4)\n",
        "#dataset = version.download(\"yolov11\")"
      ]
    },
    {
      "cell_type": "code",
      "execution_count": 5,
      "metadata": {
        "colab": {
          "base_uri": "https://localhost:8080/"
        },
        "id": "u2QG6PGAS-jp",
        "outputId": "805ff29d-dbb7-48dd-b291-7f17abb22413"
      },
      "outputs": [
        {
          "output_type": "stream",
          "name": "stdout",
          "text": [
            "Requirement already satisfied: roboflow in /usr/local/lib/python3.11/dist-packages (1.1.51)\n",
            "Requirement already satisfied: certifi in /usr/local/lib/python3.11/dist-packages (from roboflow) (2024.12.14)\n",
            "Requirement already satisfied: idna==3.7 in /usr/local/lib/python3.11/dist-packages (from roboflow) (3.7)\n",
            "Requirement already satisfied: cycler in /usr/local/lib/python3.11/dist-packages (from roboflow) (0.12.1)\n",
            "Requirement already satisfied: kiwisolver>=1.3.1 in /usr/local/lib/python3.11/dist-packages (from roboflow) (1.4.8)\n",
            "Requirement already satisfied: matplotlib in /usr/local/lib/python3.11/dist-packages (from roboflow) (3.10.0)\n",
            "Requirement already satisfied: numpy>=1.18.5 in /usr/local/lib/python3.11/dist-packages (from roboflow) (1.26.4)\n",
            "Requirement already satisfied: opencv-python-headless==4.10.0.84 in /usr/local/lib/python3.11/dist-packages (from roboflow) (4.10.0.84)\n",
            "Requirement already satisfied: Pillow>=7.1.2 in /usr/local/lib/python3.11/dist-packages (from roboflow) (11.1.0)\n",
            "Requirement already satisfied: python-dateutil in /usr/local/lib/python3.11/dist-packages (from roboflow) (2.8.2)\n",
            "Requirement already satisfied: python-dotenv in /usr/local/lib/python3.11/dist-packages (from roboflow) (1.0.1)\n",
            "Requirement already satisfied: requests in /usr/local/lib/python3.11/dist-packages (from roboflow) (2.32.3)\n",
            "Requirement already satisfied: six in /usr/local/lib/python3.11/dist-packages (from roboflow) (1.17.0)\n",
            "Requirement already satisfied: urllib3>=1.26.6 in /usr/local/lib/python3.11/dist-packages (from roboflow) (2.3.0)\n",
            "Requirement already satisfied: tqdm>=4.41.0 in /usr/local/lib/python3.11/dist-packages (from roboflow) (4.67.1)\n",
            "Requirement already satisfied: PyYAML>=5.3.1 in /usr/local/lib/python3.11/dist-packages (from roboflow) (6.0.2)\n",
            "Requirement already satisfied: requests-toolbelt in /usr/local/lib/python3.11/dist-packages (from roboflow) (1.0.0)\n",
            "Requirement already satisfied: filetype in /usr/local/lib/python3.11/dist-packages (from roboflow) (1.2.0)\n",
            "Requirement already satisfied: contourpy>=1.0.1 in /usr/local/lib/python3.11/dist-packages (from matplotlib->roboflow) (1.3.1)\n",
            "Requirement already satisfied: fonttools>=4.22.0 in /usr/local/lib/python3.11/dist-packages (from matplotlib->roboflow) (4.55.4)\n",
            "Requirement already satisfied: packaging>=20.0 in /usr/local/lib/python3.11/dist-packages (from matplotlib->roboflow) (24.2)\n",
            "Requirement already satisfied: pyparsing>=2.3.1 in /usr/local/lib/python3.11/dist-packages (from matplotlib->roboflow) (3.2.1)\n",
            "Requirement already satisfied: charset-normalizer<4,>=2 in /usr/local/lib/python3.11/dist-packages (from requests->roboflow) (3.4.1)\n",
            "loading Roboflow workspace...\n",
            "loading Roboflow project...\n"
          ]
        },
        {
          "output_type": "stream",
          "name": "stderr",
          "text": [
            "Downloading Dataset Version Zip in Vehicle-Registration-Plates-2 to yolov8:: 100%|██████████| 733501/733501 [00:15<00:00, 47078.03it/s]"
          ]
        },
        {
          "output_type": "stream",
          "name": "stdout",
          "text": [
            "\n"
          ]
        },
        {
          "output_type": "stream",
          "name": "stderr",
          "text": [
            "\n",
            "Extracting Dataset Version Zip to Vehicle-Registration-Plates-2 in yolov8:: 100%|██████████| 42362/42362 [00:07<00:00, 5662.39it/s] \n"
          ]
        }
      ],
      "source": [
        "!pip install roboflow\n",
        "\n",
        "from roboflow import Roboflow\n",
        "rf = Roboflow(api_key=\"CyzE7fZ18Z7HBgbsL38M\")\n",
        "project = rf.workspace(\"augmented-startups\").project(\"vehicle-registration-plates-trudk\")\n",
        "version = project.version(2)\n",
        "dataset = version.download(\"yolov8\")\n"
      ]
    },
    {
      "cell_type": "code",
      "execution_count": 6,
      "metadata": {
        "colab": {
          "base_uri": "https://localhost:8080/"
        },
        "id": "2HOgHrXgp_1P",
        "outputId": "d7687586-63c9-471c-b9b1-fed0a49e42db"
      },
      "outputs": [
        {
          "output_type": "stream",
          "name": "stdout",
          "text": [
            "/content/Vehicle-Registration-Plates-2/data.yaml\n"
          ]
        }
      ],
      "source": [
        "dataset_path = dataset.location\n",
        "data_yaml_path = os.path.join(dataset_path, 'data.yaml')\n",
        "print(data_yaml_path)\n"
      ]
    },
    {
      "cell_type": "code",
      "execution_count": 7,
      "metadata": {
        "colab": {
          "base_uri": "https://localhost:8080/"
        },
        "id": "rMwBvM56qDqt",
        "outputId": "6bdb2611-9525-4505-83ea-aebb6d94bb97"
      },
      "outputs": [
        {
          "output_type": "stream",
          "name": "stdout",
          "text": [
            "Ultralytics 8.3.68 🚀 Python-3.11.11 torch-2.5.1+cu121 CUDA:0 (Tesla T4, 15102MiB)\n",
            "\u001b[34m\u001b[1mengine/trainer: \u001b[0mtask=detect, mode=train, model=yolov8n.pt, data=/content/Vehicle-Registration-Plates-2/data.yaml, epochs=30, time=None, patience=100, batch=16, imgsz=640, save=True, save_period=2, cache=False, device=None, workers=8, project=None, name=train, exist_ok=False, pretrained=True, optimizer=auto, verbose=True, seed=0, deterministic=True, single_cls=False, rect=False, cos_lr=False, close_mosaic=10, resume=False, amp=True, fraction=1.0, profile=False, freeze=None, multi_scale=False, overlap_mask=True, mask_ratio=4, dropout=0.0, val=True, split=val, save_json=False, save_hybrid=False, conf=None, iou=0.7, max_det=300, half=False, dnn=False, plots=True, source=None, vid_stride=1, stream_buffer=False, visualize=False, augment=False, agnostic_nms=False, classes=None, retina_masks=False, embed=None, show=False, save_frames=False, save_txt=False, save_conf=False, save_crop=False, show_labels=True, show_conf=True, show_boxes=True, line_width=None, format=torchscript, keras=False, optimize=False, int8=False, dynamic=False, simplify=True, opset=None, workspace=None, nms=False, lr0=0.01, lrf=0.01, momentum=0.937, weight_decay=0.0005, warmup_epochs=3.0, warmup_momentum=0.8, warmup_bias_lr=0.1, box=7.5, cls=0.5, dfl=1.5, pose=12.0, kobj=1.0, nbs=64, hsv_h=0.015, hsv_s=0.7, hsv_v=0.4, degrees=0.0, translate=0.1, scale=0.5, shear=0.0, perspective=0.0, flipud=0.0, fliplr=0.5, bgr=0.0, mosaic=1.0, mixup=0.0, copy_paste=0.0, copy_paste_mode=flip, auto_augment=randaugment, erasing=0.4, crop_fraction=1.0, cfg=None, tracker=botsort.yaml, save_dir=runs/detect/train\n",
            "Downloading https://ultralytics.com/assets/Arial.ttf to '/root/.config/Ultralytics/Arial.ttf'...\n"
          ]
        },
        {
          "output_type": "stream",
          "name": "stderr",
          "text": [
            "100%|██████████| 755k/755k [00:00<00:00, 25.5MB/s]\n"
          ]
        },
        {
          "output_type": "stream",
          "name": "stdout",
          "text": [
            "Overriding model.yaml nc=80 with nc=1\n",
            "\n",
            "                   from  n    params  module                                       arguments                     \n",
            "  0                  -1  1       464  ultralytics.nn.modules.conv.Conv             [3, 16, 3, 2]                 \n",
            "  1                  -1  1      4672  ultralytics.nn.modules.conv.Conv             [16, 32, 3, 2]                \n",
            "  2                  -1  1      7360  ultralytics.nn.modules.block.C2f             [32, 32, 1, True]             \n",
            "  3                  -1  1     18560  ultralytics.nn.modules.conv.Conv             [32, 64, 3, 2]                \n",
            "  4                  -1  2     49664  ultralytics.nn.modules.block.C2f             [64, 64, 2, True]             \n",
            "  5                  -1  1     73984  ultralytics.nn.modules.conv.Conv             [64, 128, 3, 2]               \n",
            "  6                  -1  2    197632  ultralytics.nn.modules.block.C2f             [128, 128, 2, True]           \n",
            "  7                  -1  1    295424  ultralytics.nn.modules.conv.Conv             [128, 256, 3, 2]              \n",
            "  8                  -1  1    460288  ultralytics.nn.modules.block.C2f             [256, 256, 1, True]           \n",
            "  9                  -1  1    164608  ultralytics.nn.modules.block.SPPF            [256, 256, 5]                 \n",
            " 10                  -1  1         0  torch.nn.modules.upsampling.Upsample         [None, 2, 'nearest']          \n",
            " 11             [-1, 6]  1         0  ultralytics.nn.modules.conv.Concat           [1]                           \n",
            " 12                  -1  1    148224  ultralytics.nn.modules.block.C2f             [384, 128, 1]                 \n",
            " 13                  -1  1         0  torch.nn.modules.upsampling.Upsample         [None, 2, 'nearest']          \n",
            " 14             [-1, 4]  1         0  ultralytics.nn.modules.conv.Concat           [1]                           \n",
            " 15                  -1  1     37248  ultralytics.nn.modules.block.C2f             [192, 64, 1]                  \n",
            " 16                  -1  1     36992  ultralytics.nn.modules.conv.Conv             [64, 64, 3, 2]                \n",
            " 17            [-1, 12]  1         0  ultralytics.nn.modules.conv.Concat           [1]                           \n",
            " 18                  -1  1    123648  ultralytics.nn.modules.block.C2f             [192, 128, 1]                 \n",
            " 19                  -1  1    147712  ultralytics.nn.modules.conv.Conv             [128, 128, 3, 2]              \n",
            " 20             [-1, 9]  1         0  ultralytics.nn.modules.conv.Concat           [1]                           \n",
            " 21                  -1  1    493056  ultralytics.nn.modules.block.C2f             [384, 256, 1]                 \n",
            " 22        [15, 18, 21]  1    751507  ultralytics.nn.modules.head.Detect           [1, [64, 128, 256]]           \n",
            "Model summary: 225 layers, 3,011,043 parameters, 3,011,027 gradients, 8.2 GFLOPs\n",
            "\n",
            "Transferred 319/355 items from pretrained weights\n",
            "\u001b[34m\u001b[1mTensorBoard: \u001b[0mStart with 'tensorboard --logdir runs/detect/train', view at http://localhost:6006/\n",
            "Freezing layer 'model.22.dfl.conv.weight'\n",
            "\u001b[34m\u001b[1mAMP: \u001b[0mrunning Automatic Mixed Precision (AMP) checks...\n",
            "Downloading https://github.com/ultralytics/assets/releases/download/v8.3.0/yolo11n.pt to 'yolo11n.pt'...\n"
          ]
        },
        {
          "output_type": "stream",
          "name": "stderr",
          "text": [
            "100%|██████████| 5.35M/5.35M [00:00<00:00, 89.7MB/s]\n"
          ]
        },
        {
          "output_type": "stream",
          "name": "stdout",
          "text": [
            "\u001b[34m\u001b[1mAMP: \u001b[0mchecks passed ✅\n"
          ]
        },
        {
          "output_type": "stream",
          "name": "stderr",
          "text": [
            "\u001b[34m\u001b[1mtrain: \u001b[0mScanning /content/Vehicle-Registration-Plates-2/train/labels... 18528 images, 18 backgrounds, 0 corrupt: 100%|██████████| 18528/18528 [00:08<00:00, 2259.04it/s]\n"
          ]
        },
        {
          "output_type": "stream",
          "name": "stdout",
          "text": [
            "\u001b[34m\u001b[1mtrain: \u001b[0mNew cache created: /content/Vehicle-Registration-Plates-2/train/labels.cache\n",
            "\u001b[34m\u001b[1malbumentations: \u001b[0mBlur(p=0.01, blur_limit=(3, 7)), MedianBlur(p=0.01, blur_limit=(3, 7)), ToGray(p=0.01, num_output_channels=3, method='weighted_average'), CLAHE(p=0.01, clip_limit=(1.0, 4.0), tile_grid_size=(8, 8))\n"
          ]
        },
        {
          "output_type": "stream",
          "name": "stderr",
          "text": [
            "A new version of Albumentations is available: 2.0.1 (you have 1.4.20). Upgrade using: pip install -U albumentations. To disable automatic update checks, set the environment variable NO_ALBUMENTATIONS_UPDATE to 1.\n",
            "\u001b[34m\u001b[1mval: \u001b[0mScanning /content/Vehicle-Registration-Plates-2/valid/labels... 1765 images, 0 backgrounds, 0 corrupt: 100%|██████████| 1765/1765 [00:01<00:00, 1295.41it/s]"
          ]
        },
        {
          "output_type": "stream",
          "name": "stdout",
          "text": [
            "\u001b[34m\u001b[1mval: \u001b[0mNew cache created: /content/Vehicle-Registration-Plates-2/valid/labels.cache\n"
          ]
        },
        {
          "output_type": "stream",
          "name": "stderr",
          "text": [
            "\n"
          ]
        },
        {
          "output_type": "stream",
          "name": "stdout",
          "text": [
            "Plotting labels to runs/detect/train/labels.jpg... \n",
            "\u001b[34m\u001b[1moptimizer:\u001b[0m 'optimizer=auto' found, ignoring 'lr0=0.01' and 'momentum=0.937' and determining best 'optimizer', 'lr0' and 'momentum' automatically... \n",
            "\u001b[34m\u001b[1moptimizer:\u001b[0m AdamW(lr=0.002, momentum=0.9) with parameter groups 57 weight(decay=0.0), 64 weight(decay=0.0005), 63 bias(decay=0.0)\n",
            "\u001b[34m\u001b[1mTensorBoard: \u001b[0mmodel graph visualization added ✅\n",
            "Image sizes 640 train, 640 val\n",
            "Using 2 dataloader workers\n",
            "Logging results to \u001b[1mruns/detect/train\u001b[0m\n",
            "Starting training for 30 epochs...\n",
            "\n",
            "      Epoch    GPU_mem   box_loss   cls_loss   dfl_loss  Instances       Size\n"
          ]
        },
        {
          "output_type": "stream",
          "name": "stderr",
          "text": [
            "       1/30      2.27G      1.237      1.176      1.173         29        640: 100%|██████████| 1158/1158 [06:09<00:00,  3.13it/s]\n",
            "                 Class     Images  Instances      Box(P          R      mAP50  mAP50-95): 100%|██████████| 56/56 [00:17<00:00,  3.20it/s]"
          ]
        },
        {
          "output_type": "stream",
          "name": "stdout",
          "text": [
            "                   all       1765       1840      0.944      0.912      0.951      0.627\n"
          ]
        },
        {
          "output_type": "stream",
          "name": "stderr",
          "text": [
            "\n"
          ]
        },
        {
          "output_type": "stream",
          "name": "stdout",
          "text": [
            "\n",
            "      Epoch    GPU_mem   box_loss   cls_loss   dfl_loss  Instances       Size\n"
          ]
        },
        {
          "output_type": "stream",
          "name": "stderr",
          "text": [
            "       2/30      2.14G      1.231     0.6935       1.19         39        640: 100%|██████████| 1158/1158 [05:55<00:00,  3.26it/s]\n",
            "                 Class     Images  Instances      Box(P          R      mAP50  mAP50-95): 100%|██████████| 56/56 [00:15<00:00,  3.53it/s]\n"
          ]
        },
        {
          "output_type": "stream",
          "name": "stdout",
          "text": [
            "                   all       1765       1840       0.96      0.901      0.948      0.649\n",
            "\n",
            "      Epoch    GPU_mem   box_loss   cls_loss   dfl_loss  Instances       Size\n"
          ]
        },
        {
          "output_type": "stream",
          "name": "stderr",
          "text": [
            "       3/30      2.14G      1.204     0.6551      1.185         27        640: 100%|██████████| 1158/1158 [05:51<00:00,  3.30it/s]\n",
            "                 Class     Images  Instances      Box(P          R      mAP50  mAP50-95): 100%|██████████| 56/56 [00:16<00:00,  3.41it/s]"
          ]
        },
        {
          "output_type": "stream",
          "name": "stdout",
          "text": [
            "                   all       1765       1840      0.974      0.938      0.967      0.665\n"
          ]
        },
        {
          "output_type": "stream",
          "name": "stderr",
          "text": [
            "\n"
          ]
        },
        {
          "output_type": "stream",
          "name": "stdout",
          "text": [
            "\n",
            "      Epoch    GPU_mem   box_loss   cls_loss   dfl_loss  Instances       Size\n"
          ]
        },
        {
          "output_type": "stream",
          "name": "stderr",
          "text": [
            "       4/30      2.14G      1.185     0.6209      1.162         27        640: 100%|██████████| 1158/1158 [05:51<00:00,  3.30it/s]\n",
            "                 Class     Images  Instances      Box(P          R      mAP50  mAP50-95): 100%|██████████| 56/56 [00:16<00:00,  3.42it/s]"
          ]
        },
        {
          "output_type": "stream",
          "name": "stdout",
          "text": [
            "                   all       1765       1840      0.981      0.934       0.97      0.672\n"
          ]
        },
        {
          "output_type": "stream",
          "name": "stderr",
          "text": [
            "\n"
          ]
        },
        {
          "output_type": "stream",
          "name": "stdout",
          "text": [
            "\n",
            "      Epoch    GPU_mem   box_loss   cls_loss   dfl_loss  Instances       Size\n"
          ]
        },
        {
          "output_type": "stream",
          "name": "stderr",
          "text": [
            "       5/30      2.14G      1.158     0.5871      1.149         24        640: 100%|██████████| 1158/1158 [05:53<00:00,  3.28it/s]\n",
            "                 Class     Images  Instances      Box(P          R      mAP50  mAP50-95): 100%|██████████| 56/56 [00:16<00:00,  3.45it/s]"
          ]
        },
        {
          "output_type": "stream",
          "name": "stdout",
          "text": [
            "                   all       1765       1840      0.975      0.936      0.969      0.667\n"
          ]
        },
        {
          "output_type": "stream",
          "name": "stderr",
          "text": [
            "\n"
          ]
        },
        {
          "output_type": "stream",
          "name": "stdout",
          "text": [
            "\n",
            "      Epoch    GPU_mem   box_loss   cls_loss   dfl_loss  Instances       Size\n"
          ]
        },
        {
          "output_type": "stream",
          "name": "stderr",
          "text": [
            "       6/30      2.15G      1.151     0.5674      1.145         22        640: 100%|██████████| 1158/1158 [05:51<00:00,  3.29it/s]\n",
            "                 Class     Images  Instances      Box(P          R      mAP50  mAP50-95): 100%|██████████| 56/56 [00:16<00:00,  3.45it/s]"
          ]
        },
        {
          "output_type": "stream",
          "name": "stdout",
          "text": [
            "                   all       1765       1840      0.978      0.949      0.974      0.675\n"
          ]
        },
        {
          "output_type": "stream",
          "name": "stderr",
          "text": [
            "\n"
          ]
        },
        {
          "output_type": "stream",
          "name": "stdout",
          "text": [
            "\n",
            "      Epoch    GPU_mem   box_loss   cls_loss   dfl_loss  Instances       Size\n"
          ]
        },
        {
          "output_type": "stream",
          "name": "stderr",
          "text": [
            "       7/30      2.14G      1.134       0.55      1.141         22        640: 100%|██████████| 1158/1158 [05:53<00:00,  3.28it/s]\n",
            "                 Class     Images  Instances      Box(P          R      mAP50  mAP50-95): 100%|██████████| 56/56 [00:16<00:00,  3.45it/s]"
          ]
        },
        {
          "output_type": "stream",
          "name": "stdout",
          "text": [
            "                   all       1765       1840      0.975      0.946      0.975      0.682\n"
          ]
        },
        {
          "output_type": "stream",
          "name": "stderr",
          "text": [
            "\n"
          ]
        },
        {
          "output_type": "stream",
          "name": "stdout",
          "text": [
            "\n",
            "      Epoch    GPU_mem   box_loss   cls_loss   dfl_loss  Instances       Size\n"
          ]
        },
        {
          "output_type": "stream",
          "name": "stderr",
          "text": [
            "       8/30      2.16G       1.13     0.5411      1.131         34        640: 100%|██████████| 1158/1158 [05:57<00:00,  3.24it/s]\n",
            "                 Class     Images  Instances      Box(P          R      mAP50  mAP50-95): 100%|██████████| 56/56 [00:16<00:00,  3.38it/s]"
          ]
        },
        {
          "output_type": "stream",
          "name": "stdout",
          "text": [
            "                   all       1765       1840      0.985      0.949      0.978      0.693\n"
          ]
        },
        {
          "output_type": "stream",
          "name": "stderr",
          "text": [
            "\n"
          ]
        },
        {
          "output_type": "stream",
          "name": "stdout",
          "text": [
            "\n",
            "      Epoch    GPU_mem   box_loss   cls_loss   dfl_loss  Instances       Size\n"
          ]
        },
        {
          "output_type": "stream",
          "name": "stderr",
          "text": [
            "       9/30      2.14G      1.118     0.5255      1.126         23        640: 100%|██████████| 1158/1158 [05:54<00:00,  3.27it/s]\n",
            "                 Class     Images  Instances      Box(P          R      mAP50  mAP50-95): 100%|██████████| 56/56 [00:16<00:00,  3.42it/s]"
          ]
        },
        {
          "output_type": "stream",
          "name": "stdout",
          "text": [
            "                   all       1765       1840      0.982      0.951      0.976      0.691\n"
          ]
        },
        {
          "output_type": "stream",
          "name": "stderr",
          "text": [
            "\n"
          ]
        },
        {
          "output_type": "stream",
          "name": "stdout",
          "text": [
            "\n",
            "      Epoch    GPU_mem   box_loss   cls_loss   dfl_loss  Instances       Size\n"
          ]
        },
        {
          "output_type": "stream",
          "name": "stderr",
          "text": [
            "      10/30      2.14G      1.111      0.516      1.126         30        640: 100%|██████████| 1158/1158 [05:49<00:00,  3.31it/s]\n",
            "                 Class     Images  Instances      Box(P          R      mAP50  mAP50-95): 100%|██████████| 56/56 [00:16<00:00,  3.39it/s]\n"
          ]
        },
        {
          "output_type": "stream",
          "name": "stdout",
          "text": [
            "                   all       1765       1840      0.988      0.947      0.978      0.703\n",
            "\n",
            "      Epoch    GPU_mem   box_loss   cls_loss   dfl_loss  Instances       Size\n"
          ]
        },
        {
          "output_type": "stream",
          "name": "stderr",
          "text": [
            "      11/30      2.14G      1.104     0.5063      1.116         31        640: 100%|██████████| 1158/1158 [06:23<00:00,  3.02it/s]\n",
            "                 Class     Images  Instances      Box(P          R      mAP50  mAP50-95): 100%|██████████| 56/56 [00:16<00:00,  3.43it/s]\n"
          ]
        },
        {
          "output_type": "stream",
          "name": "stdout",
          "text": [
            "                   all       1765       1840      0.977      0.954      0.981        0.7\n",
            "\n",
            "      Epoch    GPU_mem   box_loss   cls_loss   dfl_loss  Instances       Size\n"
          ]
        },
        {
          "output_type": "stream",
          "name": "stderr",
          "text": [
            "      12/30      2.14G      1.093      0.502      1.114         28        640: 100%|██████████| 1158/1158 [05:51<00:00,  3.30it/s]\n",
            "                 Class     Images  Instances      Box(P          R      mAP50  mAP50-95): 100%|██████████| 56/56 [00:16<00:00,  3.42it/s]"
          ]
        },
        {
          "output_type": "stream",
          "name": "stdout",
          "text": [
            "                   all       1765       1840      0.986      0.952      0.982        0.7\n"
          ]
        },
        {
          "output_type": "stream",
          "name": "stderr",
          "text": [
            "\n"
          ]
        },
        {
          "output_type": "stream",
          "name": "stdout",
          "text": [
            "\n",
            "      Epoch    GPU_mem   box_loss   cls_loss   dfl_loss  Instances       Size\n"
          ]
        },
        {
          "output_type": "stream",
          "name": "stderr",
          "text": [
            "      13/30      2.14G      1.081      0.488       1.11         28        640: 100%|██████████| 1158/1158 [05:51<00:00,  3.29it/s]\n",
            "                 Class     Images  Instances      Box(P          R      mAP50  mAP50-95): 100%|██████████| 56/56 [00:15<00:00,  3.51it/s]"
          ]
        },
        {
          "output_type": "stream",
          "name": "stdout",
          "text": [
            "                   all       1765       1840      0.982      0.957      0.983      0.702\n"
          ]
        },
        {
          "output_type": "stream",
          "name": "stderr",
          "text": [
            "\n"
          ]
        },
        {
          "output_type": "stream",
          "name": "stdout",
          "text": [
            "\n",
            "      Epoch    GPU_mem   box_loss   cls_loss   dfl_loss  Instances       Size\n"
          ]
        },
        {
          "output_type": "stream",
          "name": "stderr",
          "text": [
            "      14/30      2.15G      1.082     0.4853      1.106         28        640: 100%|██████████| 1158/1158 [05:53<00:00,  3.27it/s]\n",
            "                 Class     Images  Instances      Box(P          R      mAP50  mAP50-95): 100%|██████████| 56/56 [00:16<00:00,  3.47it/s]"
          ]
        },
        {
          "output_type": "stream",
          "name": "stdout",
          "text": [
            "                   all       1765       1840      0.972      0.965      0.981      0.702\n"
          ]
        },
        {
          "output_type": "stream",
          "name": "stderr",
          "text": [
            "\n"
          ]
        },
        {
          "output_type": "stream",
          "name": "stdout",
          "text": [
            "\n",
            "      Epoch    GPU_mem   box_loss   cls_loss   dfl_loss  Instances       Size\n"
          ]
        },
        {
          "output_type": "stream",
          "name": "stderr",
          "text": [
            "      15/30      2.14G      1.075      0.479      1.104         27        640: 100%|██████████| 1158/1158 [05:50<00:00,  3.30it/s]\n",
            "                 Class     Images  Instances      Box(P          R      mAP50  mAP50-95): 100%|██████████| 56/56 [00:15<00:00,  3.55it/s]\n"
          ]
        },
        {
          "output_type": "stream",
          "name": "stdout",
          "text": [
            "                   all       1765       1840      0.989      0.953      0.983      0.705\n",
            "\n",
            "      Epoch    GPU_mem   box_loss   cls_loss   dfl_loss  Instances       Size\n"
          ]
        },
        {
          "output_type": "stream",
          "name": "stderr",
          "text": [
            "      16/30      2.14G      1.064     0.4722      1.099         25        640: 100%|██████████| 1158/1158 [05:51<00:00,  3.30it/s]\n",
            "                 Class     Images  Instances      Box(P          R      mAP50  mAP50-95): 100%|██████████| 56/56 [00:16<00:00,  3.47it/s]"
          ]
        },
        {
          "output_type": "stream",
          "name": "stdout",
          "text": [
            "                   all       1765       1840       0.98      0.963      0.982      0.706\n"
          ]
        },
        {
          "output_type": "stream",
          "name": "stderr",
          "text": [
            "\n"
          ]
        },
        {
          "output_type": "stream",
          "name": "stdout",
          "text": [
            "\n",
            "      Epoch    GPU_mem   box_loss   cls_loss   dfl_loss  Instances       Size\n"
          ]
        },
        {
          "output_type": "stream",
          "name": "stderr",
          "text": [
            "      17/30      2.14G      1.056     0.4622      1.095         24        640: 100%|██████████| 1158/1158 [05:51<00:00,  3.29it/s]\n",
            "                 Class     Images  Instances      Box(P          R      mAP50  mAP50-95): 100%|██████████| 56/56 [00:16<00:00,  3.48it/s]"
          ]
        },
        {
          "output_type": "stream",
          "name": "stdout",
          "text": [
            "                   all       1765       1840      0.978      0.963      0.982       0.71\n"
          ]
        },
        {
          "output_type": "stream",
          "name": "stderr",
          "text": [
            "\n"
          ]
        },
        {
          "output_type": "stream",
          "name": "stdout",
          "text": [
            "\n",
            "      Epoch    GPU_mem   box_loss   cls_loss   dfl_loss  Instances       Size\n"
          ]
        },
        {
          "output_type": "stream",
          "name": "stderr",
          "text": [
            "      18/30      2.14G      1.052     0.4569      1.091         30        640: 100%|██████████| 1158/1158 [05:47<00:00,  3.33it/s]\n",
            "                 Class     Images  Instances      Box(P          R      mAP50  mAP50-95): 100%|██████████| 56/56 [00:15<00:00,  3.53it/s]"
          ]
        },
        {
          "output_type": "stream",
          "name": "stdout",
          "text": [
            "                   all       1765       1840      0.986      0.958      0.984      0.713\n"
          ]
        },
        {
          "output_type": "stream",
          "name": "stderr",
          "text": [
            "\n"
          ]
        },
        {
          "output_type": "stream",
          "name": "stdout",
          "text": [
            "\n",
            "      Epoch    GPU_mem   box_loss   cls_loss   dfl_loss  Instances       Size\n"
          ]
        },
        {
          "output_type": "stream",
          "name": "stderr",
          "text": [
            "      19/30      2.14G      1.044     0.4497      1.088         22        640: 100%|██████████| 1158/1158 [05:51<00:00,  3.30it/s]\n",
            "                 Class     Images  Instances      Box(P          R      mAP50  mAP50-95): 100%|██████████| 56/56 [00:16<00:00,  3.43it/s]"
          ]
        },
        {
          "output_type": "stream",
          "name": "stdout",
          "text": [
            "                   all       1765       1840      0.981      0.964      0.984       0.71\n"
          ]
        },
        {
          "output_type": "stream",
          "name": "stderr",
          "text": [
            "\n"
          ]
        },
        {
          "output_type": "stream",
          "name": "stdout",
          "text": [
            "\n",
            "      Epoch    GPU_mem   box_loss   cls_loss   dfl_loss  Instances       Size\n"
          ]
        },
        {
          "output_type": "stream",
          "name": "stderr",
          "text": [
            "      20/30      2.14G      1.034     0.4446      1.084         20        640: 100%|██████████| 1158/1158 [05:46<00:00,  3.34it/s]\n",
            "                 Class     Images  Instances      Box(P          R      mAP50  mAP50-95): 100%|██████████| 56/56 [00:15<00:00,  3.55it/s]"
          ]
        },
        {
          "output_type": "stream",
          "name": "stdout",
          "text": [
            "                   all       1765       1840      0.983      0.961      0.984      0.711\n"
          ]
        },
        {
          "output_type": "stream",
          "name": "stderr",
          "text": [
            "\n"
          ]
        },
        {
          "output_type": "stream",
          "name": "stdout",
          "text": [
            "Closing dataloader mosaic\n",
            "\u001b[34m\u001b[1malbumentations: \u001b[0mBlur(p=0.01, blur_limit=(3, 7)), MedianBlur(p=0.01, blur_limit=(3, 7)), ToGray(p=0.01, num_output_channels=3, method='weighted_average'), CLAHE(p=0.01, clip_limit=(1.0, 4.0), tile_grid_size=(8, 8))\n",
            "\n",
            "      Epoch    GPU_mem   box_loss   cls_loss   dfl_loss  Instances       Size\n"
          ]
        },
        {
          "output_type": "stream",
          "name": "stderr",
          "text": [
            "      21/30      2.14G      1.022     0.3913      1.115         16        640: 100%|██████████| 1158/1158 [05:40<00:00,  3.41it/s]\n",
            "                 Class     Images  Instances      Box(P          R      mAP50  mAP50-95): 100%|██████████| 56/56 [00:16<00:00,  3.46it/s]"
          ]
        },
        {
          "output_type": "stream",
          "name": "stdout",
          "text": [
            "                   all       1765       1840       0.98      0.966      0.985      0.712\n"
          ]
        },
        {
          "output_type": "stream",
          "name": "stderr",
          "text": [
            "\n"
          ]
        },
        {
          "output_type": "stream",
          "name": "stdout",
          "text": [
            "\n",
            "      Epoch    GPU_mem   box_loss   cls_loss   dfl_loss  Instances       Size\n"
          ]
        },
        {
          "output_type": "stream",
          "name": "stderr",
          "text": [
            "      22/30      2.14G      1.013     0.3846      1.111         16        640: 100%|██████████| 1158/1158 [05:34<00:00,  3.47it/s]\n",
            "                 Class     Images  Instances      Box(P          R      mAP50  mAP50-95): 100%|██████████| 56/56 [00:16<00:00,  3.32it/s]"
          ]
        },
        {
          "output_type": "stream",
          "name": "stdout",
          "text": [
            "                   all       1765       1840      0.985      0.964      0.984       0.71\n"
          ]
        },
        {
          "output_type": "stream",
          "name": "stderr",
          "text": [
            "\n"
          ]
        },
        {
          "output_type": "stream",
          "name": "stdout",
          "text": [
            "\n",
            "      Epoch    GPU_mem   box_loss   cls_loss   dfl_loss  Instances       Size\n"
          ]
        },
        {
          "output_type": "stream",
          "name": "stderr",
          "text": [
            "      23/30      2.14G      1.005     0.3779      1.106         16        640: 100%|██████████| 1158/1158 [05:39<00:00,  3.41it/s]\n",
            "                 Class     Images  Instances      Box(P          R      mAP50  mAP50-95): 100%|██████████| 56/56 [00:16<00:00,  3.41it/s]\n"
          ]
        },
        {
          "output_type": "stream",
          "name": "stdout",
          "text": [
            "                   all       1765       1840      0.978      0.966      0.985      0.718\n",
            "\n",
            "      Epoch    GPU_mem   box_loss   cls_loss   dfl_loss  Instances       Size\n"
          ]
        },
        {
          "output_type": "stream",
          "name": "stderr",
          "text": [
            "      24/30      2.14G     0.9908     0.3703      1.099         15        640: 100%|██████████| 1158/1158 [05:39<00:00,  3.41it/s]\n",
            "                 Class     Images  Instances      Box(P          R      mAP50  mAP50-95): 100%|██████████| 56/56 [00:16<00:00,  3.42it/s]"
          ]
        },
        {
          "output_type": "stream",
          "name": "stdout",
          "text": [
            "                   all       1765       1840      0.982      0.968      0.986      0.716\n"
          ]
        },
        {
          "output_type": "stream",
          "name": "stderr",
          "text": [
            "\n"
          ]
        },
        {
          "output_type": "stream",
          "name": "stdout",
          "text": [
            "\n",
            "      Epoch    GPU_mem   box_loss   cls_loss   dfl_loss  Instances       Size\n"
          ]
        },
        {
          "output_type": "stream",
          "name": "stderr",
          "text": [
            "      25/30      2.14G     0.9849     0.3664      1.096         16        640: 100%|██████████| 1158/1158 [05:35<00:00,  3.45it/s]\n",
            "                 Class     Images  Instances      Box(P          R      mAP50  mAP50-95): 100%|██████████| 56/56 [00:16<00:00,  3.49it/s]\n"
          ]
        },
        {
          "output_type": "stream",
          "name": "stdout",
          "text": [
            "                   all       1765       1840      0.986      0.964      0.985      0.717\n",
            "\n",
            "      Epoch    GPU_mem   box_loss   cls_loss   dfl_loss  Instances       Size\n"
          ]
        },
        {
          "output_type": "stream",
          "name": "stderr",
          "text": [
            "      26/30      2.14G      0.979     0.3595      1.094         17        640: 100%|██████████| 1158/1158 [05:37<00:00,  3.43it/s]\n",
            "                 Class     Images  Instances      Box(P          R      mAP50  mAP50-95): 100%|██████████| 56/56 [00:16<00:00,  3.46it/s]"
          ]
        },
        {
          "output_type": "stream",
          "name": "stdout",
          "text": [
            "                   all       1765       1840      0.984      0.962      0.986      0.717\n"
          ]
        },
        {
          "output_type": "stream",
          "name": "stderr",
          "text": [
            "\n"
          ]
        },
        {
          "output_type": "stream",
          "name": "stdout",
          "text": [
            "\n",
            "      Epoch    GPU_mem   box_loss   cls_loss   dfl_loss  Instances       Size\n"
          ]
        },
        {
          "output_type": "stream",
          "name": "stderr",
          "text": [
            "      27/30      2.14G     0.9667     0.3532      1.085         16        640: 100%|██████████| 1158/1158 [05:35<00:00,  3.45it/s]\n",
            "                 Class     Images  Instances      Box(P          R      mAP50  mAP50-95): 100%|██████████| 56/56 [00:16<00:00,  3.37it/s]"
          ]
        },
        {
          "output_type": "stream",
          "name": "stdout",
          "text": [
            "                   all       1765       1840      0.987      0.962      0.985      0.718\n"
          ]
        },
        {
          "output_type": "stream",
          "name": "stderr",
          "text": [
            "\n"
          ]
        },
        {
          "output_type": "stream",
          "name": "stdout",
          "text": [
            "\n",
            "      Epoch    GPU_mem   box_loss   cls_loss   dfl_loss  Instances       Size\n"
          ]
        },
        {
          "output_type": "stream",
          "name": "stderr",
          "text": [
            "      28/30      2.14G       0.96      0.346      1.087         17        640: 100%|██████████| 1158/1158 [05:34<00:00,  3.46it/s]\n",
            "                 Class     Images  Instances      Box(P          R      mAP50  mAP50-95): 100%|██████████| 56/56 [00:16<00:00,  3.49it/s]"
          ]
        },
        {
          "output_type": "stream",
          "name": "stdout",
          "text": [
            "                   all       1765       1840      0.986      0.963      0.986      0.721\n"
          ]
        },
        {
          "output_type": "stream",
          "name": "stderr",
          "text": [
            "\n"
          ]
        },
        {
          "output_type": "stream",
          "name": "stdout",
          "text": [
            "\n",
            "      Epoch    GPU_mem   box_loss   cls_loss   dfl_loss  Instances       Size\n"
          ]
        },
        {
          "output_type": "stream",
          "name": "stderr",
          "text": [
            "      29/30      2.14G     0.9515      0.341       1.08         16        640: 100%|██████████| 1158/1158 [05:37<00:00,  3.43it/s]\n",
            "                 Class     Images  Instances      Box(P          R      mAP50  mAP50-95): 100%|██████████| 56/56 [00:16<00:00,  3.49it/s]"
          ]
        },
        {
          "output_type": "stream",
          "name": "stdout",
          "text": [
            "                   all       1765       1840       0.98      0.968      0.986      0.719\n"
          ]
        },
        {
          "output_type": "stream",
          "name": "stderr",
          "text": [
            "\n"
          ]
        },
        {
          "output_type": "stream",
          "name": "stdout",
          "text": [
            "\n",
            "      Epoch    GPU_mem   box_loss   cls_loss   dfl_loss  Instances       Size\n"
          ]
        },
        {
          "output_type": "stream",
          "name": "stderr",
          "text": [
            "      30/30      2.14G     0.9476     0.3383      1.077         16        640: 100%|██████████| 1158/1158 [05:33<00:00,  3.47it/s]\n",
            "                 Class     Images  Instances      Box(P          R      mAP50  mAP50-95): 100%|██████████| 56/56 [00:16<00:00,  3.37it/s]"
          ]
        },
        {
          "output_type": "stream",
          "name": "stdout",
          "text": [
            "                   all       1765       1840      0.983      0.967      0.985      0.717\n"
          ]
        },
        {
          "output_type": "stream",
          "name": "stderr",
          "text": [
            "\n"
          ]
        },
        {
          "output_type": "stream",
          "name": "stdout",
          "text": [
            "\n",
            "30 epochs completed in 3.050 hours.\n",
            "Optimizer stripped from runs/detect/train/weights/last.pt, 6.2MB\n",
            "Optimizer stripped from runs/detect/train/weights/best.pt, 6.2MB\n",
            "\n",
            "Validating runs/detect/train/weights/best.pt...\n",
            "Ultralytics 8.3.68 🚀 Python-3.11.11 torch-2.5.1+cu121 CUDA:0 (Tesla T4, 15102MiB)\n",
            "Model summary (fused): 168 layers, 3,005,843 parameters, 0 gradients, 8.1 GFLOPs\n"
          ]
        },
        {
          "output_type": "stream",
          "name": "stderr",
          "text": [
            "                 Class     Images  Instances      Box(P          R      mAP50  mAP50-95): 100%|██████████| 56/56 [00:18<00:00,  2.96it/s]\n"
          ]
        },
        {
          "output_type": "stream",
          "name": "stdout",
          "text": [
            "                   all       1765       1840      0.986      0.963      0.986      0.721\n",
            "Speed: 0.2ms preprocess, 2.2ms inference, 0.0ms loss, 2.0ms postprocess per image\n",
            "Results saved to \u001b[1mruns/detect/train\u001b[0m\n"
          ]
        }
      ],
      "source": [
        "results = model.train(data= data_yaml_path , epochs=30,save_period = 2, save = True, verbose=True)\n"
      ]
    },
    {
      "cell_type": "code",
      "execution_count": 8,
      "metadata": {
        "id": "Kl2mo9R8rj2k",
        "colab": {
          "base_uri": "https://localhost:8080/"
        },
        "outputId": "fc4719b2-2ca2-460f-b3fb-d0dc6b45d4c2"
      },
      "outputs": [
        {
          "output_type": "stream",
          "name": "stdout",
          "text": [
            "Ultralytics 8.3.68 🚀 Python-3.11.11 torch-2.5.1+cu121 CUDA:0 (Tesla T4, 15102MiB)\n",
            "Model summary (fused): 168 layers, 3,005,843 parameters, 0 gradients, 8.1 GFLOPs\n"
          ]
        },
        {
          "output_type": "stream",
          "name": "stderr",
          "text": [
            "\u001b[34m\u001b[1mval: \u001b[0mScanning /content/Vehicle-Registration-Plates-2/valid/labels.cache... 1765 images, 0 backgrounds, 0 corrupt: 100%|██████████| 1765/1765 [00:00<?, ?it/s]\n",
            "                 Class     Images  Instances      Box(P          R      mAP50  mAP50-95): 100%|██████████| 111/111 [00:29<00:00,  3.75it/s]\n"
          ]
        },
        {
          "output_type": "stream",
          "name": "stdout",
          "text": [
            "                   all       1765       1840      0.986      0.963      0.986      0.722\n",
            "Speed: 0.5ms preprocess, 4.4ms inference, 0.0ms loss, 2.4ms postprocess per image\n",
            "Results saved to \u001b[1mruns/detect/val\u001b[0m\n",
            "ultralytics.utils.metrics.DetMetrics object with attributes:\n",
            "\n",
            "ap_class_index: array([0])\n",
            "box: ultralytics.utils.metrics.Metric object\n",
            "confusion_matrix: <ultralytics.utils.metrics.ConfusionMatrix object at 0x7887deae6410>\n",
            "curves: ['Precision-Recall(B)', 'F1-Confidence(B)', 'Precision-Confidence(B)', 'Recall-Confidence(B)']\n",
            "curves_results: [[array([          0,    0.001001,    0.002002,    0.003003,    0.004004,    0.005005,    0.006006,    0.007007,    0.008008,    0.009009,     0.01001,    0.011011,    0.012012,    0.013013,    0.014014,    0.015015,    0.016016,    0.017017,    0.018018,    0.019019,     0.02002,    0.021021,    0.022022,    0.023023,\n",
            "          0.024024,    0.025025,    0.026026,    0.027027,    0.028028,    0.029029,     0.03003,    0.031031,    0.032032,    0.033033,    0.034034,    0.035035,    0.036036,    0.037037,    0.038038,    0.039039,     0.04004,    0.041041,    0.042042,    0.043043,    0.044044,    0.045045,    0.046046,    0.047047,\n",
            "          0.048048,    0.049049,     0.05005,    0.051051,    0.052052,    0.053053,    0.054054,    0.055055,    0.056056,    0.057057,    0.058058,    0.059059,     0.06006,    0.061061,    0.062062,    0.063063,    0.064064,    0.065065,    0.066066,    0.067067,    0.068068,    0.069069,     0.07007,    0.071071,\n",
            "          0.072072,    0.073073,    0.074074,    0.075075,    0.076076,    0.077077,    0.078078,    0.079079,     0.08008,    0.081081,    0.082082,    0.083083,    0.084084,    0.085085,    0.086086,    0.087087,    0.088088,    0.089089,     0.09009,    0.091091,    0.092092,    0.093093,    0.094094,    0.095095,\n",
            "          0.096096,    0.097097,    0.098098,    0.099099,      0.1001,      0.1011,      0.1021,      0.1031,      0.1041,     0.10511,     0.10611,     0.10711,     0.10811,     0.10911,     0.11011,     0.11111,     0.11211,     0.11311,     0.11411,     0.11512,     0.11612,     0.11712,     0.11812,     0.11912,\n",
            "           0.12012,     0.12112,     0.12212,     0.12312,     0.12412,     0.12513,     0.12613,     0.12713,     0.12813,     0.12913,     0.13013,     0.13113,     0.13213,     0.13313,     0.13413,     0.13514,     0.13614,     0.13714,     0.13814,     0.13914,     0.14014,     0.14114,     0.14214,     0.14314,\n",
            "           0.14414,     0.14515,     0.14615,     0.14715,     0.14815,     0.14915,     0.15015,     0.15115,     0.15215,     0.15315,     0.15415,     0.15516,     0.15616,     0.15716,     0.15816,     0.15916,     0.16016,     0.16116,     0.16216,     0.16316,     0.16416,     0.16517,     0.16617,     0.16717,\n",
            "           0.16817,     0.16917,     0.17017,     0.17117,     0.17217,     0.17317,     0.17417,     0.17518,     0.17618,     0.17718,     0.17818,     0.17918,     0.18018,     0.18118,     0.18218,     0.18318,     0.18418,     0.18519,     0.18619,     0.18719,     0.18819,     0.18919,     0.19019,     0.19119,\n",
            "           0.19219,     0.19319,     0.19419,      0.1952,      0.1962,      0.1972,      0.1982,      0.1992,      0.2002,      0.2012,      0.2022,      0.2032,      0.2042,     0.20521,     0.20621,     0.20721,     0.20821,     0.20921,     0.21021,     0.21121,     0.21221,     0.21321,     0.21421,     0.21522,\n",
            "           0.21622,     0.21722,     0.21822,     0.21922,     0.22022,     0.22122,     0.22222,     0.22322,     0.22422,     0.22523,     0.22623,     0.22723,     0.22823,     0.22923,     0.23023,     0.23123,     0.23223,     0.23323,     0.23423,     0.23524,     0.23624,     0.23724,     0.23824,     0.23924,\n",
            "           0.24024,     0.24124,     0.24224,     0.24324,     0.24424,     0.24525,     0.24625,     0.24725,     0.24825,     0.24925,     0.25025,     0.25125,     0.25225,     0.25325,     0.25425,     0.25526,     0.25626,     0.25726,     0.25826,     0.25926,     0.26026,     0.26126,     0.26226,     0.26326,\n",
            "           0.26426,     0.26527,     0.26627,     0.26727,     0.26827,     0.26927,     0.27027,     0.27127,     0.27227,     0.27327,     0.27427,     0.27528,     0.27628,     0.27728,     0.27828,     0.27928,     0.28028,     0.28128,     0.28228,     0.28328,     0.28428,     0.28529,     0.28629,     0.28729,\n",
            "           0.28829,     0.28929,     0.29029,     0.29129,     0.29229,     0.29329,     0.29429,      0.2953,      0.2963,      0.2973,      0.2983,      0.2993,      0.3003,      0.3013,      0.3023,      0.3033,      0.3043,     0.30531,     0.30631,     0.30731,     0.30831,     0.30931,     0.31031,     0.31131,\n",
            "           0.31231,     0.31331,     0.31431,     0.31532,     0.31632,     0.31732,     0.31832,     0.31932,     0.32032,     0.32132,     0.32232,     0.32332,     0.32432,     0.32533,     0.32633,     0.32733,     0.32833,     0.32933,     0.33033,     0.33133,     0.33233,     0.33333,     0.33433,     0.33534,\n",
            "           0.33634,     0.33734,     0.33834,     0.33934,     0.34034,     0.34134,     0.34234,     0.34334,     0.34434,     0.34535,     0.34635,     0.34735,     0.34835,     0.34935,     0.35035,     0.35135,     0.35235,     0.35335,     0.35435,     0.35536,     0.35636,     0.35736,     0.35836,     0.35936,\n",
            "           0.36036,     0.36136,     0.36236,     0.36336,     0.36436,     0.36537,     0.36637,     0.36737,     0.36837,     0.36937,     0.37037,     0.37137,     0.37237,     0.37337,     0.37437,     0.37538,     0.37638,     0.37738,     0.37838,     0.37938,     0.38038,     0.38138,     0.38238,     0.38338,\n",
            "           0.38438,     0.38539,     0.38639,     0.38739,     0.38839,     0.38939,     0.39039,     0.39139,     0.39239,     0.39339,     0.39439,      0.3954,      0.3964,      0.3974,      0.3984,      0.3994,      0.4004,      0.4014,      0.4024,      0.4034,      0.4044,     0.40541,     0.40641,     0.40741,\n",
            "           0.40841,     0.40941,     0.41041,     0.41141,     0.41241,     0.41341,     0.41441,     0.41542,     0.41642,     0.41742,     0.41842,     0.41942,     0.42042,     0.42142,     0.42242,     0.42342,     0.42442,     0.42543,     0.42643,     0.42743,     0.42843,     0.42943,     0.43043,     0.43143,\n",
            "           0.43243,     0.43343,     0.43443,     0.43544,     0.43644,     0.43744,     0.43844,     0.43944,     0.44044,     0.44144,     0.44244,     0.44344,     0.44444,     0.44545,     0.44645,     0.44745,     0.44845,     0.44945,     0.45045,     0.45145,     0.45245,     0.45345,     0.45445,     0.45546,\n",
            "           0.45646,     0.45746,     0.45846,     0.45946,     0.46046,     0.46146,     0.46246,     0.46346,     0.46446,     0.46547,     0.46647,     0.46747,     0.46847,     0.46947,     0.47047,     0.47147,     0.47247,     0.47347,     0.47447,     0.47548,     0.47648,     0.47748,     0.47848,     0.47948,\n",
            "           0.48048,     0.48148,     0.48248,     0.48348,     0.48448,     0.48549,     0.48649,     0.48749,     0.48849,     0.48949,     0.49049,     0.49149,     0.49249,     0.49349,     0.49449,      0.4955,      0.4965,      0.4975,      0.4985,      0.4995,      0.5005,      0.5015,      0.5025,      0.5035,\n",
            "            0.5045,     0.50551,     0.50651,     0.50751,     0.50851,     0.50951,     0.51051,     0.51151,     0.51251,     0.51351,     0.51451,     0.51552,     0.51652,     0.51752,     0.51852,     0.51952,     0.52052,     0.52152,     0.52252,     0.52352,     0.52452,     0.52553,     0.52653,     0.52753,\n",
            "           0.52853,     0.52953,     0.53053,     0.53153,     0.53253,     0.53353,     0.53453,     0.53554,     0.53654,     0.53754,     0.53854,     0.53954,     0.54054,     0.54154,     0.54254,     0.54354,     0.54454,     0.54555,     0.54655,     0.54755,     0.54855,     0.54955,     0.55055,     0.55155,\n",
            "           0.55255,     0.55355,     0.55455,     0.55556,     0.55656,     0.55756,     0.55856,     0.55956,     0.56056,     0.56156,     0.56256,     0.56356,     0.56456,     0.56557,     0.56657,     0.56757,     0.56857,     0.56957,     0.57057,     0.57157,     0.57257,     0.57357,     0.57457,     0.57558,\n",
            "           0.57658,     0.57758,     0.57858,     0.57958,     0.58058,     0.58158,     0.58258,     0.58358,     0.58458,     0.58559,     0.58659,     0.58759,     0.58859,     0.58959,     0.59059,     0.59159,     0.59259,     0.59359,     0.59459,      0.5956,      0.5966,      0.5976,      0.5986,      0.5996,\n",
            "            0.6006,      0.6016,      0.6026,      0.6036,      0.6046,     0.60561,     0.60661,     0.60761,     0.60861,     0.60961,     0.61061,     0.61161,     0.61261,     0.61361,     0.61461,     0.61562,     0.61662,     0.61762,     0.61862,     0.61962,     0.62062,     0.62162,     0.62262,     0.62362,\n",
            "           0.62462,     0.62563,     0.62663,     0.62763,     0.62863,     0.62963,     0.63063,     0.63163,     0.63263,     0.63363,     0.63463,     0.63564,     0.63664,     0.63764,     0.63864,     0.63964,     0.64064,     0.64164,     0.64264,     0.64364,     0.64464,     0.64565,     0.64665,     0.64765,\n",
            "           0.64865,     0.64965,     0.65065,     0.65165,     0.65265,     0.65365,     0.65465,     0.65566,     0.65666,     0.65766,     0.65866,     0.65966,     0.66066,     0.66166,     0.66266,     0.66366,     0.66466,     0.66567,     0.66667,     0.66767,     0.66867,     0.66967,     0.67067,     0.67167,\n",
            "           0.67267,     0.67367,     0.67467,     0.67568,     0.67668,     0.67768,     0.67868,     0.67968,     0.68068,     0.68168,     0.68268,     0.68368,     0.68468,     0.68569,     0.68669,     0.68769,     0.68869,     0.68969,     0.69069,     0.69169,     0.69269,     0.69369,     0.69469,      0.6957,\n",
            "            0.6967,      0.6977,      0.6987,      0.6997,      0.7007,      0.7017,      0.7027,      0.7037,      0.7047,     0.70571,     0.70671,     0.70771,     0.70871,     0.70971,     0.71071,     0.71171,     0.71271,     0.71371,     0.71471,     0.71572,     0.71672,     0.71772,     0.71872,     0.71972,\n",
            "           0.72072,     0.72172,     0.72272,     0.72372,     0.72472,     0.72573,     0.72673,     0.72773,     0.72873,     0.72973,     0.73073,     0.73173,     0.73273,     0.73373,     0.73473,     0.73574,     0.73674,     0.73774,     0.73874,     0.73974,     0.74074,     0.74174,     0.74274,     0.74374,\n",
            "           0.74474,     0.74575,     0.74675,     0.74775,     0.74875,     0.74975,     0.75075,     0.75175,     0.75275,     0.75375,     0.75475,     0.75576,     0.75676,     0.75776,     0.75876,     0.75976,     0.76076,     0.76176,     0.76276,     0.76376,     0.76476,     0.76577,     0.76677,     0.76777,\n",
            "           0.76877,     0.76977,     0.77077,     0.77177,     0.77277,     0.77377,     0.77477,     0.77578,     0.77678,     0.77778,     0.77878,     0.77978,     0.78078,     0.78178,     0.78278,     0.78378,     0.78478,     0.78579,     0.78679,     0.78779,     0.78879,     0.78979,     0.79079,     0.79179,\n",
            "           0.79279,     0.79379,     0.79479,      0.7958,      0.7968,      0.7978,      0.7988,      0.7998,      0.8008,      0.8018,      0.8028,      0.8038,      0.8048,     0.80581,     0.80681,     0.80781,     0.80881,     0.80981,     0.81081,     0.81181,     0.81281,     0.81381,     0.81481,     0.81582,\n",
            "           0.81682,     0.81782,     0.81882,     0.81982,     0.82082,     0.82182,     0.82282,     0.82382,     0.82482,     0.82583,     0.82683,     0.82783,     0.82883,     0.82983,     0.83083,     0.83183,     0.83283,     0.83383,     0.83483,     0.83584,     0.83684,     0.83784,     0.83884,     0.83984,\n",
            "           0.84084,     0.84184,     0.84284,     0.84384,     0.84484,     0.84585,     0.84685,     0.84785,     0.84885,     0.84985,     0.85085,     0.85185,     0.85285,     0.85385,     0.85485,     0.85586,     0.85686,     0.85786,     0.85886,     0.85986,     0.86086,     0.86186,     0.86286,     0.86386,\n",
            "           0.86486,     0.86587,     0.86687,     0.86787,     0.86887,     0.86987,     0.87087,     0.87187,     0.87287,     0.87387,     0.87487,     0.87588,     0.87688,     0.87788,     0.87888,     0.87988,     0.88088,     0.88188,     0.88288,     0.88388,     0.88488,     0.88589,     0.88689,     0.88789,\n",
            "           0.88889,     0.88989,     0.89089,     0.89189,     0.89289,     0.89389,     0.89489,      0.8959,      0.8969,      0.8979,      0.8989,      0.8999,      0.9009,      0.9019,      0.9029,      0.9039,      0.9049,     0.90591,     0.90691,     0.90791,     0.90891,     0.90991,     0.91091,     0.91191,\n",
            "           0.91291,     0.91391,     0.91491,     0.91592,     0.91692,     0.91792,     0.91892,     0.91992,     0.92092,     0.92192,     0.92292,     0.92392,     0.92492,     0.92593,     0.92693,     0.92793,     0.92893,     0.92993,     0.93093,     0.93193,     0.93293,     0.93393,     0.93493,     0.93594,\n",
            "           0.93694,     0.93794,     0.93894,     0.93994,     0.94094,     0.94194,     0.94294,     0.94394,     0.94494,     0.94595,     0.94695,     0.94795,     0.94895,     0.94995,     0.95095,     0.95195,     0.95295,     0.95395,     0.95495,     0.95596,     0.95696,     0.95796,     0.95896,     0.95996,\n",
            "           0.96096,     0.96196,     0.96296,     0.96396,     0.96496,     0.96597,     0.96697,     0.96797,     0.96897,     0.96997,     0.97097,     0.97197,     0.97297,     0.97397,     0.97497,     0.97598,     0.97698,     0.97798,     0.97898,     0.97998,     0.98098,     0.98198,     0.98298,     0.98398,\n",
            "           0.98498,     0.98599,     0.98699,     0.98799,     0.98899,     0.98999,     0.99099,     0.99199,     0.99299,     0.99399,     0.99499,       0.996,       0.997,       0.998,       0.999,           1]), array([[          1,           1,           1,           1,           1,           1,           1,           1,           1,           1,           1,           1,           1,           1,           1,           1,           1,           1,           1,           1,           1,           1,           1,\n",
            "                  1,           1,           1,           1,           1,           1,           1,           1,           1,           1,           1,           1,           1,           1,           1,           1,           1,           1,           1,           1,           1,           1,           1,\n",
            "                  1,           1,           1,           1,           1,           1,           1,           1,           1,           1,           1,           1,           1,           1,           1,           1,           1,           1,           1,           1,           1,           1,           1,\n",
            "                  1,           1,           1,           1,           1,           1,           1,           1,           1,           1,           1,           1,           1,           1,           1,           1,           1,           1,           1,           1,           1,           1,           1,\n",
            "                  1,           1,           1,           1,           1,           1,           1,           1,           1,           1,           1,           1,           1,           1,           1,           1,           1,           1,           1,           1,           1,           1,           1,\n",
            "                  1,           1,           1,           1,           1,           1,           1,           1,           1,           1,           1,           1,           1,           1,           1,           1,           1,           1,           1,           1,           1,           1,           1,\n",
            "                  1,           1,           1,           1,           1,           1,           1,           1,           1,           1,           1,           1,           1,           1,           1,           1,           1,           1,           1,           1,           1,           1,           1,\n",
            "                  1,           1,           1,           1,           1,           1,           1,           1,           1,           1,           1,           1,           1,           1,           1,           1,           1,           1,           1,           1,           1,           1,           1,\n",
            "                  1,           1,           1,           1,           1,           1,           1,           1,           1,           1,           1,           1,           1,           1,           1,           1,           1,           1,           1,           1,           1,           1,           1,\n",
            "                  1,           1,           1,           1,           1,           1,           1,           1,           1,           1,           1,           1,           1,           1,           1,           1,           1,           1,           1,           1,           1,           1,           1,\n",
            "                  1,           1,           1,           1,           1,           1,           1,           1,           1,           1,           1,           1,           1,           1,           1,           1,           1,           1,           1,           1,           1,           1,           1,\n",
            "                  1,           1,           1,           1,           1,           1,           1,           1,           1,           1,           1,           1,           1,           1,           1,           1,           1,           1,           1,           1,           1,           1,           1,\n",
            "                  1,           1,           1,           1,           1,           1,     0.99857,     0.99857,     0.99857,     0.99857,     0.99857,     0.99857,     0.99857,     0.99857,     0.99857,     0.99857,     0.99857,     0.99857,     0.99857,     0.99857,     0.99857,     0.99857,     0.99857,\n",
            "            0.99857,     0.99857,     0.99857,     0.99857,     0.99857,     0.99857,     0.99857,     0.99857,     0.99857,     0.99857,     0.99857,     0.99857,     0.99857,     0.99857,     0.99857,     0.99857,     0.99857,     0.99857,     0.99857,     0.99857,     0.99857,     0.99857,     0.99857,\n",
            "            0.99857,     0.99857,     0.99857,     0.99857,     0.99857,     0.99857,     0.99857,     0.99857,     0.99857,     0.99857,     0.99857,     0.99857,     0.99857,     0.99857,     0.99857,     0.99857,     0.99857,     0.99857,     0.99857,     0.99857,     0.99857,     0.99857,     0.99857,\n",
            "            0.99857,     0.99857,     0.99857,     0.99857,     0.99857,     0.99857,     0.99857,     0.99857,     0.99857,     0.99857,     0.99857,     0.99857,     0.99857,     0.99857,     0.99857,     0.99857,     0.99857,     0.99857,     0.99857,     0.99857,     0.99857,     0.99857,     0.99857,\n",
            "            0.99857,     0.99857,     0.99857,     0.99857,     0.99857,     0.99857,     0.99857,     0.99857,     0.99857,     0.99857,     0.99857,     0.99841,     0.99841,     0.99841,     0.99841,     0.99841,     0.99841,     0.99841,     0.99841,     0.99841,     0.99841,     0.99841,     0.99841,\n",
            "            0.99841,     0.99841,     0.99841,     0.99841,     0.99841,     0.99841,     0.99841,     0.99841,     0.99841,     0.99841,     0.99841,     0.99841,     0.99841,     0.99841,     0.99841,     0.99841,     0.99841,     0.99841,     0.99841,     0.99841,     0.99841,     0.99841,     0.99841,\n",
            "            0.99841,     0.99841,     0.99841,     0.99841,     0.99841,     0.99841,     0.99841,     0.99841,     0.99841,     0.99841,     0.99841,     0.99841,     0.99841,     0.99841,     0.99841,     0.99841,     0.99841,     0.99841,     0.99841,     0.99841,     0.99841,     0.99841,     0.99841,\n",
            "            0.99841,     0.99841,     0.99841,     0.99841,     0.99841,     0.99841,     0.99841,     0.99841,     0.99841,     0.99841,     0.99841,     0.99841,     0.99841,     0.99841,     0.99841,     0.99841,     0.99841,     0.99841,     0.99841,     0.99841,     0.99841,     0.99841,     0.99841,\n",
            "            0.99841,     0.99841,     0.99841,     0.99841,     0.99841,     0.99841,     0.99841,     0.99841,     0.99841,     0.99841,     0.99841,     0.99841,     0.99841,     0.99841,     0.99841,     0.99841,     0.99841,     0.99841,     0.99841,     0.99841,     0.99841,     0.99841,     0.99841,\n",
            "            0.99841,     0.99841,     0.99841,     0.99841,     0.99841,     0.99841,     0.99841,     0.99841,     0.99841,     0.99841,     0.99841,     0.99841,     0.99841,     0.99841,     0.99841,     0.99841,     0.99841,     0.99841,     0.99841,     0.99841,     0.99841,     0.99841,     0.99841,\n",
            "            0.99841,     0.99841,     0.99841,     0.99841,     0.99841,     0.99841,     0.99841,     0.99841,     0.99841,     0.99841,     0.99841,     0.99841,     0.99841,     0.99841,     0.99841,     0.99841,     0.99841,     0.99841,     0.99841,     0.99841,     0.99841,     0.99841,     0.99841,\n",
            "            0.99841,     0.99841,     0.99841,     0.99841,     0.99841,     0.99841,     0.99841,     0.99841,     0.99841,     0.99841,     0.99841,     0.99841,     0.99841,     0.99841,     0.99841,     0.99841,     0.99841,     0.99841,     0.99841,     0.99841,     0.99841,     0.99841,     0.99841,\n",
            "            0.99841,     0.99841,     0.99841,     0.99841,     0.99841,     0.99841,     0.99841,     0.99841,     0.99841,     0.99841,     0.99841,     0.99841,     0.99841,     0.99841,     0.99841,     0.99841,     0.99841,     0.99841,     0.99841,     0.99841,     0.99841,     0.99841,     0.99841,\n",
            "            0.99841,     0.99841,     0.99841,     0.99841,     0.99841,     0.99841,     0.99841,     0.99841,     0.99841,     0.99841,     0.99841,     0.99841,     0.99841,     0.99841,     0.99841,     0.99841,     0.99841,     0.99841,     0.99841,     0.99841,     0.99841,     0.99841,     0.99841,\n",
            "            0.99841,     0.99841,     0.99841,     0.99841,     0.99841,     0.99841,     0.99841,     0.99841,     0.99841,     0.99841,     0.99841,     0.99841,     0.99841,     0.99841,     0.99841,     0.99841,     0.99841,     0.99841,     0.99841,     0.99841,     0.99841,     0.99841,     0.99841,\n",
            "            0.99841,     0.99841,     0.99841,     0.99841,     0.99841,     0.99841,     0.99841,     0.99841,     0.99841,     0.99841,     0.99841,     0.99841,     0.99841,     0.99841,     0.99841,     0.99841,     0.99841,     0.99841,     0.99841,     0.99841,     0.99841,     0.99841,     0.99841,\n",
            "            0.99841,     0.99841,     0.99841,     0.99841,     0.99841,     0.99841,     0.99841,     0.99841,     0.99841,     0.99841,     0.99841,     0.99841,     0.99841,     0.99841,     0.99841,     0.99841,     0.99841,     0.99841,     0.99841,     0.99841,     0.99841,     0.99841,     0.99841,\n",
            "            0.99841,     0.99841,     0.99841,     0.99841,     0.99841,     0.99841,     0.99841,     0.99841,     0.99841,     0.99841,     0.99841,     0.99841,     0.99841,     0.99841,     0.99841,     0.99841,     0.99789,     0.99789,     0.99789,     0.99789,     0.99789,     0.99789,     0.99789,\n",
            "            0.99789,     0.99789,     0.99789,     0.99789,     0.99789,     0.99789,     0.99789,     0.99789,     0.99789,     0.99789,     0.99789,     0.99789,     0.99789,     0.99789,     0.99789,     0.99789,     0.99789,     0.99789,     0.99789,     0.99789,     0.99789,     0.99789,     0.99789,\n",
            "            0.99789,     0.99789,     0.99789,     0.99789,     0.99789,     0.99789,     0.99789,     0.99789,     0.99789,     0.99789,     0.99789,     0.99789,     0.99789,     0.99789,     0.99789,     0.99789,     0.99789,     0.99789,     0.99789,     0.99789,     0.99789,     0.99789,     0.99789,\n",
            "            0.99789,     0.99789,     0.99789,     0.99789,     0.99789,     0.99789,     0.99789,     0.99789,     0.99789,     0.99789,     0.99789,     0.99789,     0.99789,     0.99789,     0.99789,     0.99789,     0.99789,     0.99789,     0.99789,     0.99789,     0.99789,     0.99789,     0.99789,\n",
            "            0.99789,     0.99789,     0.99789,     0.99789,     0.99789,     0.99789,     0.99789,     0.99789,     0.99789,     0.99789,     0.99789,     0.99789,     0.99789,     0.99789,     0.99732,     0.99732,     0.99732,     0.99732,     0.99732,     0.99732,     0.99732,     0.99732,     0.99732,\n",
            "            0.99732,     0.99732,     0.99732,     0.99732,     0.99732,     0.99732,     0.99732,     0.99732,     0.99732,     0.99732,     0.99732,     0.99732,     0.99732,     0.99732,     0.99732,     0.99732,     0.99732,     0.99732,     0.99732,     0.99732,     0.99732,     0.99732,     0.99732,\n",
            "            0.99732,     0.99732,     0.99681,     0.99681,     0.99681,     0.99681,     0.99681,     0.99681,     0.99681,     0.99681,     0.99681,     0.99681,     0.99681,     0.99681,     0.99681,     0.99681,     0.99681,     0.99681,     0.99681,     0.99681,     0.99681,     0.99681,     0.99681,\n",
            "            0.99681,     0.99681,     0.99681,     0.99681,     0.99681,     0.99681,     0.99681,     0.99681,     0.99681,     0.99681,     0.99681,     0.99681,     0.99681,     0.99681,     0.99681,     0.99681,     0.99681,     0.99681,     0.99681,     0.99631,     0.99631,     0.99631,     0.99631,\n",
            "            0.99631,     0.99631,     0.99631,     0.99631,     0.99631,     0.99631,     0.99631,     0.99631,     0.99631,     0.99631,     0.99631,     0.99631,     0.99631,     0.99631,     0.99631,     0.99631,     0.99631,     0.99631,     0.99631,     0.99631,     0.99631,     0.99631,     0.99631,\n",
            "            0.99631,     0.99631,     0.99631,     0.99631,     0.99631,     0.99631,     0.99595,     0.99595,     0.99595,     0.99595,     0.99595,     0.99595,     0.99595,     0.99595,     0.99595,     0.99595,     0.99595,     0.99595,     0.99595,     0.99595,     0.99595,     0.99595,     0.99595,\n",
            "            0.99595,     0.99595,     0.99595,     0.99595,     0.99595,     0.99595,     0.99595,     0.99595,     0.99595,     0.99595,     0.99595,     0.99595,     0.99595,     0.99595,     0.99595,     0.99595,     0.99595,     0.99595,     0.99595,     0.99595,     0.99595,     0.99595,     0.99595,\n",
            "            0.99595,     0.99595,     0.99595,     0.99595,     0.99595,     0.99595,     0.99595,     0.99595,     0.99595,     0.99595,     0.99595,     0.99595,     0.99595,     0.99595,     0.99595,     0.99538,     0.99538,     0.99482,     0.99482,     0.99425,      0.9937,      0.9937,      0.9937,\n",
            "            0.99258,     0.99258,     0.99204,     0.99204,      0.9915,      0.9915,      0.9915,     0.99096,     0.99096,     0.99042,     0.99042,     0.98987,     0.98987,     0.98878,     0.98878,     0.98772,     0.98772,     0.98772,     0.98663,     0.98555,     0.98501,     0.98231,     0.98178,\n",
            "             0.9791,     0.97858,     0.97752,     0.97436,     0.97067,     0.96807,     0.96602,     0.96146,     0.96146,     0.96146,     0.95337,      0.9519,     0.95095,       0.948,     0.94161,     0.93433,     0.89333,     0.81029,     0.75699,     0.74815,     0.55668,     0.52528,     0.37781,\n",
            "            0.34346,     0.30912,     0.27477,     0.24042,     0.20608,     0.17173,     0.13739,     0.10304,    0.068693,    0.034346,           0]]), 'Recall', 'Precision'], [array([          0,    0.001001,    0.002002,    0.003003,    0.004004,    0.005005,    0.006006,    0.007007,    0.008008,    0.009009,     0.01001,    0.011011,    0.012012,    0.013013,    0.014014,    0.015015,    0.016016,    0.017017,    0.018018,    0.019019,     0.02002,    0.021021,    0.022022,    0.023023,\n",
            "          0.024024,    0.025025,    0.026026,    0.027027,    0.028028,    0.029029,     0.03003,    0.031031,    0.032032,    0.033033,    0.034034,    0.035035,    0.036036,    0.037037,    0.038038,    0.039039,     0.04004,    0.041041,    0.042042,    0.043043,    0.044044,    0.045045,    0.046046,    0.047047,\n",
            "          0.048048,    0.049049,     0.05005,    0.051051,    0.052052,    0.053053,    0.054054,    0.055055,    0.056056,    0.057057,    0.058058,    0.059059,     0.06006,    0.061061,    0.062062,    0.063063,    0.064064,    0.065065,    0.066066,    0.067067,    0.068068,    0.069069,     0.07007,    0.071071,\n",
            "          0.072072,    0.073073,    0.074074,    0.075075,    0.076076,    0.077077,    0.078078,    0.079079,     0.08008,    0.081081,    0.082082,    0.083083,    0.084084,    0.085085,    0.086086,    0.087087,    0.088088,    0.089089,     0.09009,    0.091091,    0.092092,    0.093093,    0.094094,    0.095095,\n",
            "          0.096096,    0.097097,    0.098098,    0.099099,      0.1001,      0.1011,      0.1021,      0.1031,      0.1041,     0.10511,     0.10611,     0.10711,     0.10811,     0.10911,     0.11011,     0.11111,     0.11211,     0.11311,     0.11411,     0.11512,     0.11612,     0.11712,     0.11812,     0.11912,\n",
            "           0.12012,     0.12112,     0.12212,     0.12312,     0.12412,     0.12513,     0.12613,     0.12713,     0.12813,     0.12913,     0.13013,     0.13113,     0.13213,     0.13313,     0.13413,     0.13514,     0.13614,     0.13714,     0.13814,     0.13914,     0.14014,     0.14114,     0.14214,     0.14314,\n",
            "           0.14414,     0.14515,     0.14615,     0.14715,     0.14815,     0.14915,     0.15015,     0.15115,     0.15215,     0.15315,     0.15415,     0.15516,     0.15616,     0.15716,     0.15816,     0.15916,     0.16016,     0.16116,     0.16216,     0.16316,     0.16416,     0.16517,     0.16617,     0.16717,\n",
            "           0.16817,     0.16917,     0.17017,     0.17117,     0.17217,     0.17317,     0.17417,     0.17518,     0.17618,     0.17718,     0.17818,     0.17918,     0.18018,     0.18118,     0.18218,     0.18318,     0.18418,     0.18519,     0.18619,     0.18719,     0.18819,     0.18919,     0.19019,     0.19119,\n",
            "           0.19219,     0.19319,     0.19419,      0.1952,      0.1962,      0.1972,      0.1982,      0.1992,      0.2002,      0.2012,      0.2022,      0.2032,      0.2042,     0.20521,     0.20621,     0.20721,     0.20821,     0.20921,     0.21021,     0.21121,     0.21221,     0.21321,     0.21421,     0.21522,\n",
            "           0.21622,     0.21722,     0.21822,     0.21922,     0.22022,     0.22122,     0.22222,     0.22322,     0.22422,     0.22523,     0.22623,     0.22723,     0.22823,     0.22923,     0.23023,     0.23123,     0.23223,     0.23323,     0.23423,     0.23524,     0.23624,     0.23724,     0.23824,     0.23924,\n",
            "           0.24024,     0.24124,     0.24224,     0.24324,     0.24424,     0.24525,     0.24625,     0.24725,     0.24825,     0.24925,     0.25025,     0.25125,     0.25225,     0.25325,     0.25425,     0.25526,     0.25626,     0.25726,     0.25826,     0.25926,     0.26026,     0.26126,     0.26226,     0.26326,\n",
            "           0.26426,     0.26527,     0.26627,     0.26727,     0.26827,     0.26927,     0.27027,     0.27127,     0.27227,     0.27327,     0.27427,     0.27528,     0.27628,     0.27728,     0.27828,     0.27928,     0.28028,     0.28128,     0.28228,     0.28328,     0.28428,     0.28529,     0.28629,     0.28729,\n",
            "           0.28829,     0.28929,     0.29029,     0.29129,     0.29229,     0.29329,     0.29429,      0.2953,      0.2963,      0.2973,      0.2983,      0.2993,      0.3003,      0.3013,      0.3023,      0.3033,      0.3043,     0.30531,     0.30631,     0.30731,     0.30831,     0.30931,     0.31031,     0.31131,\n",
            "           0.31231,     0.31331,     0.31431,     0.31532,     0.31632,     0.31732,     0.31832,     0.31932,     0.32032,     0.32132,     0.32232,     0.32332,     0.32432,     0.32533,     0.32633,     0.32733,     0.32833,     0.32933,     0.33033,     0.33133,     0.33233,     0.33333,     0.33433,     0.33534,\n",
            "           0.33634,     0.33734,     0.33834,     0.33934,     0.34034,     0.34134,     0.34234,     0.34334,     0.34434,     0.34535,     0.34635,     0.34735,     0.34835,     0.34935,     0.35035,     0.35135,     0.35235,     0.35335,     0.35435,     0.35536,     0.35636,     0.35736,     0.35836,     0.35936,\n",
            "           0.36036,     0.36136,     0.36236,     0.36336,     0.36436,     0.36537,     0.36637,     0.36737,     0.36837,     0.36937,     0.37037,     0.37137,     0.37237,     0.37337,     0.37437,     0.37538,     0.37638,     0.37738,     0.37838,     0.37938,     0.38038,     0.38138,     0.38238,     0.38338,\n",
            "           0.38438,     0.38539,     0.38639,     0.38739,     0.38839,     0.38939,     0.39039,     0.39139,     0.39239,     0.39339,     0.39439,      0.3954,      0.3964,      0.3974,      0.3984,      0.3994,      0.4004,      0.4014,      0.4024,      0.4034,      0.4044,     0.40541,     0.40641,     0.40741,\n",
            "           0.40841,     0.40941,     0.41041,     0.41141,     0.41241,     0.41341,     0.41441,     0.41542,     0.41642,     0.41742,     0.41842,     0.41942,     0.42042,     0.42142,     0.42242,     0.42342,     0.42442,     0.42543,     0.42643,     0.42743,     0.42843,     0.42943,     0.43043,     0.43143,\n",
            "           0.43243,     0.43343,     0.43443,     0.43544,     0.43644,     0.43744,     0.43844,     0.43944,     0.44044,     0.44144,     0.44244,     0.44344,     0.44444,     0.44545,     0.44645,     0.44745,     0.44845,     0.44945,     0.45045,     0.45145,     0.45245,     0.45345,     0.45445,     0.45546,\n",
            "           0.45646,     0.45746,     0.45846,     0.45946,     0.46046,     0.46146,     0.46246,     0.46346,     0.46446,     0.46547,     0.46647,     0.46747,     0.46847,     0.46947,     0.47047,     0.47147,     0.47247,     0.47347,     0.47447,     0.47548,     0.47648,     0.47748,     0.47848,     0.47948,\n",
            "           0.48048,     0.48148,     0.48248,     0.48348,     0.48448,     0.48549,     0.48649,     0.48749,     0.48849,     0.48949,     0.49049,     0.49149,     0.49249,     0.49349,     0.49449,      0.4955,      0.4965,      0.4975,      0.4985,      0.4995,      0.5005,      0.5015,      0.5025,      0.5035,\n",
            "            0.5045,     0.50551,     0.50651,     0.50751,     0.50851,     0.50951,     0.51051,     0.51151,     0.51251,     0.51351,     0.51451,     0.51552,     0.51652,     0.51752,     0.51852,     0.51952,     0.52052,     0.52152,     0.52252,     0.52352,     0.52452,     0.52553,     0.52653,     0.52753,\n",
            "           0.52853,     0.52953,     0.53053,     0.53153,     0.53253,     0.53353,     0.53453,     0.53554,     0.53654,     0.53754,     0.53854,     0.53954,     0.54054,     0.54154,     0.54254,     0.54354,     0.54454,     0.54555,     0.54655,     0.54755,     0.54855,     0.54955,     0.55055,     0.55155,\n",
            "           0.55255,     0.55355,     0.55455,     0.55556,     0.55656,     0.55756,     0.55856,     0.55956,     0.56056,     0.56156,     0.56256,     0.56356,     0.56456,     0.56557,     0.56657,     0.56757,     0.56857,     0.56957,     0.57057,     0.57157,     0.57257,     0.57357,     0.57457,     0.57558,\n",
            "           0.57658,     0.57758,     0.57858,     0.57958,     0.58058,     0.58158,     0.58258,     0.58358,     0.58458,     0.58559,     0.58659,     0.58759,     0.58859,     0.58959,     0.59059,     0.59159,     0.59259,     0.59359,     0.59459,      0.5956,      0.5966,      0.5976,      0.5986,      0.5996,\n",
            "            0.6006,      0.6016,      0.6026,      0.6036,      0.6046,     0.60561,     0.60661,     0.60761,     0.60861,     0.60961,     0.61061,     0.61161,     0.61261,     0.61361,     0.61461,     0.61562,     0.61662,     0.61762,     0.61862,     0.61962,     0.62062,     0.62162,     0.62262,     0.62362,\n",
            "           0.62462,     0.62563,     0.62663,     0.62763,     0.62863,     0.62963,     0.63063,     0.63163,     0.63263,     0.63363,     0.63463,     0.63564,     0.63664,     0.63764,     0.63864,     0.63964,     0.64064,     0.64164,     0.64264,     0.64364,     0.64464,     0.64565,     0.64665,     0.64765,\n",
            "           0.64865,     0.64965,     0.65065,     0.65165,     0.65265,     0.65365,     0.65465,     0.65566,     0.65666,     0.65766,     0.65866,     0.65966,     0.66066,     0.66166,     0.66266,     0.66366,     0.66466,     0.66567,     0.66667,     0.66767,     0.66867,     0.66967,     0.67067,     0.67167,\n",
            "           0.67267,     0.67367,     0.67467,     0.67568,     0.67668,     0.67768,     0.67868,     0.67968,     0.68068,     0.68168,     0.68268,     0.68368,     0.68468,     0.68569,     0.68669,     0.68769,     0.68869,     0.68969,     0.69069,     0.69169,     0.69269,     0.69369,     0.69469,      0.6957,\n",
            "            0.6967,      0.6977,      0.6987,      0.6997,      0.7007,      0.7017,      0.7027,      0.7037,      0.7047,     0.70571,     0.70671,     0.70771,     0.70871,     0.70971,     0.71071,     0.71171,     0.71271,     0.71371,     0.71471,     0.71572,     0.71672,     0.71772,     0.71872,     0.71972,\n",
            "           0.72072,     0.72172,     0.72272,     0.72372,     0.72472,     0.72573,     0.72673,     0.72773,     0.72873,     0.72973,     0.73073,     0.73173,     0.73273,     0.73373,     0.73473,     0.73574,     0.73674,     0.73774,     0.73874,     0.73974,     0.74074,     0.74174,     0.74274,     0.74374,\n",
            "           0.74474,     0.74575,     0.74675,     0.74775,     0.74875,     0.74975,     0.75075,     0.75175,     0.75275,     0.75375,     0.75475,     0.75576,     0.75676,     0.75776,     0.75876,     0.75976,     0.76076,     0.76176,     0.76276,     0.76376,     0.76476,     0.76577,     0.76677,     0.76777,\n",
            "           0.76877,     0.76977,     0.77077,     0.77177,     0.77277,     0.77377,     0.77477,     0.77578,     0.77678,     0.77778,     0.77878,     0.77978,     0.78078,     0.78178,     0.78278,     0.78378,     0.78478,     0.78579,     0.78679,     0.78779,     0.78879,     0.78979,     0.79079,     0.79179,\n",
            "           0.79279,     0.79379,     0.79479,      0.7958,      0.7968,      0.7978,      0.7988,      0.7998,      0.8008,      0.8018,      0.8028,      0.8038,      0.8048,     0.80581,     0.80681,     0.80781,     0.80881,     0.80981,     0.81081,     0.81181,     0.81281,     0.81381,     0.81481,     0.81582,\n",
            "           0.81682,     0.81782,     0.81882,     0.81982,     0.82082,     0.82182,     0.82282,     0.82382,     0.82482,     0.82583,     0.82683,     0.82783,     0.82883,     0.82983,     0.83083,     0.83183,     0.83283,     0.83383,     0.83483,     0.83584,     0.83684,     0.83784,     0.83884,     0.83984,\n",
            "           0.84084,     0.84184,     0.84284,     0.84384,     0.84484,     0.84585,     0.84685,     0.84785,     0.84885,     0.84985,     0.85085,     0.85185,     0.85285,     0.85385,     0.85485,     0.85586,     0.85686,     0.85786,     0.85886,     0.85986,     0.86086,     0.86186,     0.86286,     0.86386,\n",
            "           0.86486,     0.86587,     0.86687,     0.86787,     0.86887,     0.86987,     0.87087,     0.87187,     0.87287,     0.87387,     0.87487,     0.87588,     0.87688,     0.87788,     0.87888,     0.87988,     0.88088,     0.88188,     0.88288,     0.88388,     0.88488,     0.88589,     0.88689,     0.88789,\n",
            "           0.88889,     0.88989,     0.89089,     0.89189,     0.89289,     0.89389,     0.89489,      0.8959,      0.8969,      0.8979,      0.8989,      0.8999,      0.9009,      0.9019,      0.9029,      0.9039,      0.9049,     0.90591,     0.90691,     0.90791,     0.90891,     0.90991,     0.91091,     0.91191,\n",
            "           0.91291,     0.91391,     0.91491,     0.91592,     0.91692,     0.91792,     0.91892,     0.91992,     0.92092,     0.92192,     0.92292,     0.92392,     0.92492,     0.92593,     0.92693,     0.92793,     0.92893,     0.92993,     0.93093,     0.93193,     0.93293,     0.93393,     0.93493,     0.93594,\n",
            "           0.93694,     0.93794,     0.93894,     0.93994,     0.94094,     0.94194,     0.94294,     0.94394,     0.94494,     0.94595,     0.94695,     0.94795,     0.94895,     0.94995,     0.95095,     0.95195,     0.95295,     0.95395,     0.95495,     0.95596,     0.95696,     0.95796,     0.95896,     0.95996,\n",
            "           0.96096,     0.96196,     0.96296,     0.96396,     0.96496,     0.96597,     0.96697,     0.96797,     0.96897,     0.96997,     0.97097,     0.97197,     0.97297,     0.97397,     0.97497,     0.97598,     0.97698,     0.97798,     0.97898,     0.97998,     0.98098,     0.98198,     0.98298,     0.98398,\n",
            "           0.98498,     0.98599,     0.98699,     0.98799,     0.98899,     0.98999,     0.99099,     0.99199,     0.99299,     0.99399,     0.99499,       0.996,       0.997,       0.998,       0.999,           1]), array([[    0.56099,     0.56118,     0.68361,     0.74659,     0.78456,     0.81006,     0.82937,     0.84437,     0.85601,     0.86414,     0.87165,     0.87743,     0.88173,     0.88882,     0.89179,     0.89486,      0.8992,     0.90217,      0.9047,     0.90859,     0.91124,     0.91352,     0.91566,\n",
            "            0.91793,     0.92029,      0.9232,     0.92505,     0.92775,     0.92974,     0.93002,     0.93174,     0.93283,     0.93367,     0.93496,      0.9357,     0.93602,     0.93722,     0.93832,     0.93949,     0.94008,     0.94072,     0.94082,     0.94092,     0.94218,     0.94293,     0.94356,\n",
            "            0.94426,     0.94516,     0.94591,     0.94699,     0.94807,     0.94844,     0.94914,     0.94971,     0.95035,      0.9505,      0.9507,      0.9512,     0.95287,     0.95335,     0.95356,      0.9538,     0.95444,     0.95486,     0.95516,     0.95569,     0.95646,     0.95684,     0.95699,\n",
            "            0.95734,     0.95725,     0.95755,     0.95771,     0.95796,     0.95822,      0.9584,     0.95848,     0.95855,     0.95878,     0.95926,     0.95965,     0.95987,     0.95998,     0.96009,     0.96038,     0.96067,     0.96102,     0.96103,     0.96134,      0.9618,     0.96234,     0.96325,\n",
            "             0.9635,     0.96367,     0.96404,     0.96416,      0.9637,     0.96376,     0.96387,     0.96416,     0.96444,     0.96459,     0.96502,     0.96509,     0.96468,     0.96503,     0.96486,     0.96466,     0.96468,     0.96477,     0.96486,     0.96492,     0.96497,     0.96502,     0.96507,\n",
            "            0.96512,     0.96528,     0.96517,     0.96492,      0.9653,     0.96548,     0.96561,     0.96573,     0.96563,     0.96572,     0.96581,     0.96615,      0.9664,     0.96657,     0.96667,     0.96672,     0.96677,     0.96683,     0.96688,     0.96704,     0.96718,     0.96726,     0.96733,\n",
            "            0.96741,      0.9676,     0.96778,      0.9682,     0.96827,     0.96834,     0.96841,     0.96849,     0.96859,      0.9687,     0.96835,     0.96821,     0.96811,     0.96803,     0.96796,     0.96788,     0.96741,     0.96759,     0.96762,     0.96764,     0.96767,     0.96769,     0.96772,\n",
            "            0.96774,     0.96776,     0.96779,     0.96781,     0.96784,     0.96805,     0.96817,     0.96825,     0.96834,     0.96837,     0.96838,     0.96839,      0.9684,     0.96841,     0.96842,     0.96842,     0.96843,     0.96844,     0.96845,     0.96846,     0.96847,     0.96847,     0.96848,\n",
            "            0.96849,      0.9685,     0.96851,     0.96851,     0.96852,     0.96853,     0.96854,     0.96855,     0.96856,     0.96856,     0.96857,     0.96858,     0.96859,      0.9686,      0.9686,     0.96861,     0.96862,     0.96863,     0.96868,     0.96876,     0.96883,      0.9689,     0.96893,\n",
            "            0.96897,     0.96901,     0.96905,     0.96908,     0.96912,     0.96922,      0.9696,     0.96947,     0.96947,     0.96961,      0.9699,     0.96983,     0.96976,     0.96969,     0.96992,     0.96999,     0.97006,     0.97013,     0.97014,     0.97006,     0.96998,      0.9699,     0.96995,\n",
            "               0.97,     0.97005,      0.9701,     0.97015,     0.97024,     0.97033,     0.97042,     0.97046,     0.97049,     0.97052,     0.97055,     0.97059,     0.97062,     0.97065,     0.97067,     0.97055,     0.97042,     0.97056,     0.97072,     0.97086,     0.97073,       0.971,     0.97112,\n",
            "            0.97122,      0.9713,     0.97138,     0.97171,     0.97178,     0.97185,     0.97192,     0.97199,     0.97207,     0.97215,     0.97223,     0.97238,      0.9725,     0.97247,     0.97245,     0.97242,     0.97239,     0.97237,     0.97234,     0.97232,     0.97229,     0.97227,     0.97224,\n",
            "             0.9722,     0.97207,     0.97206,     0.97225,      0.9723,     0.97234,     0.97239,     0.97243,      0.9725,     0.97275,     0.97292,     0.97279,     0.97273,     0.97274,     0.97275,     0.97277,     0.97278,     0.97279,     0.97281,     0.97282,     0.97283,     0.97284,     0.97286,\n",
            "            0.97287,     0.97288,      0.9729,     0.97291,     0.97292,     0.97294,     0.97295,     0.97296,     0.97297,     0.97299,     0.97302,     0.97305,     0.97308,     0.97311,     0.97313,     0.97316,     0.97319,     0.97322,     0.97325,     0.97324,     0.97323,     0.97322,      0.9732,\n",
            "            0.97319,     0.97318,     0.97317,     0.97316,     0.97314,     0.97313,     0.97312,     0.97311,     0.97309,     0.97308,     0.97307,     0.97306,     0.97305,     0.97303,     0.97302,     0.97301,       0.973,     0.97299,     0.97297,     0.97322,     0.97329,     0.97334,      0.9734,\n",
            "            0.97346,     0.97348,     0.97331,     0.97318,      0.9731,     0.97302,     0.97298,     0.97294,     0.97298,     0.97301,     0.97305,     0.97308,     0.97311,     0.97315,     0.97318,     0.97328,     0.97342,      0.9735,     0.97356,     0.97361,     0.97367,     0.97372,     0.97354,\n",
            "            0.97345,     0.97346,     0.97347,     0.97348,     0.97349,      0.9735,      0.9735,     0.97351,     0.97352,     0.97353,     0.97354,     0.97355,     0.97356,     0.97357,     0.97357,     0.97358,     0.97359,      0.9736,     0.97361,     0.97362,     0.97363,     0.97364,     0.97365,\n",
            "            0.97365,     0.97366,     0.97367,     0.97368,     0.97369,      0.9737,     0.97371,     0.97372,     0.97374,     0.97377,     0.97379,     0.97382,     0.97384,     0.97386,     0.97389,     0.97391,     0.97394,     0.97396,     0.97397,     0.97395,     0.97392,      0.9739,     0.97388,\n",
            "            0.97385,     0.97383,      0.9738,     0.97378,     0.97375,     0.97373,      0.9737,     0.97372,     0.97373,     0.97375,     0.97377,     0.97379,     0.97381,     0.97383,     0.97385,     0.97387,     0.97389,     0.97391,     0.97392,     0.97394,     0.97396,     0.97387,     0.97376,\n",
            "            0.97365,     0.97356,     0.97347,     0.97342,     0.97349,     0.97355,     0.97362,     0.97375,     0.97392,     0.97389,     0.97385,     0.97382,     0.97378,     0.97375,     0.97371,     0.97368,     0.97367,     0.97373,     0.97378,     0.97384,     0.97389,     0.97396,     0.97405,\n",
            "            0.97414,      0.9742,     0.97422,     0.97423,     0.97425,     0.97427,     0.97429,     0.97431,     0.97433,     0.97434,     0.97436,     0.97438,      0.9744,     0.97442,     0.97443,     0.97445,     0.97424,     0.97438,     0.97416,     0.97413,     0.97411,     0.97409,     0.97407,\n",
            "            0.97404,     0.97402,       0.974,     0.97397,     0.97395,     0.97393,     0.97391,     0.97388,     0.97399,     0.97411,     0.97418,     0.97422,     0.97427,     0.97431,     0.97435,      0.9744,     0.97438,      0.9743,     0.97423,     0.97416,     0.97414,     0.97416,     0.97417,\n",
            "            0.97418,      0.9742,     0.97421,     0.97422,     0.97424,     0.97425,     0.97426,     0.97428,     0.97429,      0.9743,     0.97432,     0.97433,     0.97435,     0.97436,     0.97437,     0.97439,      0.9744,     0.97448,     0.97456,     0.97464,     0.97464,      0.9746,     0.97456,\n",
            "            0.97452,     0.97448,     0.97444,      0.9744,     0.97427,     0.97409,     0.97366,     0.97353,     0.97351,     0.97349,     0.97348,     0.97346,     0.97344,     0.97342,      0.9734,     0.97338,     0.97337,     0.97335,     0.97333,     0.97331,     0.97329,     0.97327,     0.97325,\n",
            "            0.97315,     0.97305,     0.97299,     0.97311,     0.97322,     0.97323,     0.97322,     0.97321,      0.9732,     0.97319,     0.97317,     0.97316,     0.97315,     0.97314,     0.97313,     0.97312,     0.97311,     0.97309,     0.97308,     0.97307,     0.97306,     0.97305,     0.97304,\n",
            "            0.97302,     0.97301,       0.973,     0.97299,     0.97298,     0.97297,     0.97298,     0.97305,     0.97312,     0.97319,     0.97321,     0.97317,     0.97313,     0.97309,     0.97305,     0.97301,     0.97297,     0.97288,     0.97274,     0.97258,     0.97237,     0.97229,     0.97221,\n",
            "            0.97213,     0.97222,     0.97243,     0.97258,     0.97248,     0.97233,     0.97226,      0.9722,     0.97214,     0.97208,     0.97213,     0.97223,     0.97233,     0.97227,     0.97222,     0.97216,     0.97211,     0.97206,     0.97195,     0.97183,     0.97173,     0.97167,      0.9716,\n",
            "            0.97153,     0.97146,     0.97134,     0.97122,      0.9713,     0.97112,     0.97105,     0.97097,     0.97089,     0.97058,     0.97047,     0.97036,     0.97033,     0.97036,     0.97038,      0.9704,     0.97043,     0.97045,     0.97047,     0.97049,     0.97052,     0.97054,     0.97056,\n",
            "            0.97059,     0.97027,     0.97021,     0.97015,     0.97008,     0.97002,     0.96989,     0.96975,      0.9697,     0.96967,     0.96964,     0.96961,     0.96957,     0.96954,     0.96951,     0.96948,     0.96945,     0.96937,      0.9693,     0.96923,     0.96917,      0.9693,     0.96942,\n",
            "            0.96915,     0.96892,     0.96859,     0.96827,     0.96812,     0.96805,      0.9679,     0.96768,     0.96748,      0.9677,     0.96775,     0.96781,     0.96786,     0.96791,     0.96735,     0.96728,      0.9672,     0.96713,     0.96705,      0.9669,     0.96674,     0.96657,     0.96639,\n",
            "            0.96622,     0.96647,     0.96641,     0.96634,     0.96628,     0.96622,     0.96609,     0.96594,     0.96601,     0.96538,     0.96548,     0.96512,     0.96492,      0.9648,     0.96443,     0.96458,     0.96465,     0.96452,     0.96434,     0.96395,     0.96365,     0.96327,     0.96284,\n",
            "            0.96259,     0.96201,     0.96135,     0.96091,     0.96069,     0.96024,     0.95955,     0.95938,     0.95928,     0.95919,     0.95861,     0.95811,     0.95746,     0.95607,     0.95556,     0.95524,     0.95514,     0.95503,     0.95478,     0.95418,     0.95345,     0.95232,      0.9514,\n",
            "            0.95045,     0.94975,     0.94928,     0.94911,     0.94775,     0.94704,     0.94653,      0.9452,     0.94372,     0.94291,     0.94178,     0.94062,     0.94014,     0.93926,     0.93841,     0.93614,     0.93335,     0.93135,      0.9284,     0.92608,     0.92586,     0.92511,      0.9226,\n",
            "            0.92143,     0.91974,     0.91714,     0.91593,     0.91401,     0.91303,     0.91152,     0.90988,     0.90801,     0.90685,      0.9042,     0.90246,     0.90143,     0.90001,      0.8983,     0.89694,     0.89601,     0.89548,     0.89528,     0.89338,     0.89217,     0.89057,      0.8899,\n",
            "            0.88889,     0.88704,     0.88375,     0.88344,     0.88191,     0.88069,     0.87824,     0.87481,     0.87302,     0.87088,     0.87061,     0.86824,     0.86747,     0.86496,     0.86295,     0.85939,      0.8571,     0.85424,     0.85016,     0.84493,     0.83942,      0.8335,     0.82662,\n",
            "            0.82215,     0.81489,     0.81103,     0.80372,      0.7953,     0.78366,     0.77506,      0.7645,     0.75444,      0.7459,     0.73281,     0.72047,     0.70708,     0.69192,     0.68259,     0.66992,     0.66189,      0.6531,      0.6438,     0.63288,     0.62612,     0.61799,     0.60489,\n",
            "            0.59577,     0.58511,     0.57725,     0.57031,     0.56414,     0.56013,     0.55323,     0.54774,     0.54112,     0.53286,     0.52401,     0.51916,      0.5133,     0.51157,     0.50773,     0.50425,     0.50261,     0.49855,      0.4926,     0.48931,     0.48445,     0.48173,     0.48076,\n",
            "            0.47698,     0.47298,     0.46934,     0.46787,     0.46477,     0.46157,      0.4543,      0.4494,     0.44697,     0.44103,      0.4396,     0.43671,     0.43207,     0.42982,     0.42732,     0.42346,     0.41848,     0.41792,     0.41403,     0.41216,     0.40782,     0.39927,      0.3907,\n",
            "             0.3851,     0.37661,     0.36615,     0.35301,     0.33869,     0.32425,      0.3036,     0.28272,     0.26035,     0.23771,     0.21119,     0.19432,     0.17179,     0.15228,     0.13284,     0.12617,     0.10619,    0.094686,    0.082646,    0.072593,     0.06046,    0.054077,    0.048508,\n",
            "           0.042846,     0.03507,    0.031993,    0.029463,    0.023171,    0.021662,    0.020437,    0.019972,    0.019505,     0.01466,    0.011962,   0.0086528,   0.0067546,   0.0053604,   0.0039649,    0.003125,   0.0028177,   0.0025103,   0.0022028,           0,           0,           0,           0,\n",
            "                  0,           0,           0,           0,           0,           0,           0,           0,           0,           0,           0,           0,           0,           0,           0,           0,           0,           0,           0,           0,           0,           0,           0,\n",
            "                  0,           0,           0,           0,           0,           0,           0,           0,           0,           0,           0,           0,           0,           0,           0,           0,           0,           0,           0,           0,           0,           0,           0,\n",
            "                  0,           0,           0,           0,           0,           0,           0,           0,           0,           0,           0,           0,           0,           0,           0,           0,           0,           0,           0,           0,           0,           0,           0,\n",
            "                  0,           0,           0,           0,           0,           0,           0,           0,           0,           0,           0]]), 'Confidence', 'F1'], [array([          0,    0.001001,    0.002002,    0.003003,    0.004004,    0.005005,    0.006006,    0.007007,    0.008008,    0.009009,     0.01001,    0.011011,    0.012012,    0.013013,    0.014014,    0.015015,    0.016016,    0.017017,    0.018018,    0.019019,     0.02002,    0.021021,    0.022022,    0.023023,\n",
            "          0.024024,    0.025025,    0.026026,    0.027027,    0.028028,    0.029029,     0.03003,    0.031031,    0.032032,    0.033033,    0.034034,    0.035035,    0.036036,    0.037037,    0.038038,    0.039039,     0.04004,    0.041041,    0.042042,    0.043043,    0.044044,    0.045045,    0.046046,    0.047047,\n",
            "          0.048048,    0.049049,     0.05005,    0.051051,    0.052052,    0.053053,    0.054054,    0.055055,    0.056056,    0.057057,    0.058058,    0.059059,     0.06006,    0.061061,    0.062062,    0.063063,    0.064064,    0.065065,    0.066066,    0.067067,    0.068068,    0.069069,     0.07007,    0.071071,\n",
            "          0.072072,    0.073073,    0.074074,    0.075075,    0.076076,    0.077077,    0.078078,    0.079079,     0.08008,    0.081081,    0.082082,    0.083083,    0.084084,    0.085085,    0.086086,    0.087087,    0.088088,    0.089089,     0.09009,    0.091091,    0.092092,    0.093093,    0.094094,    0.095095,\n",
            "          0.096096,    0.097097,    0.098098,    0.099099,      0.1001,      0.1011,      0.1021,      0.1031,      0.1041,     0.10511,     0.10611,     0.10711,     0.10811,     0.10911,     0.11011,     0.11111,     0.11211,     0.11311,     0.11411,     0.11512,     0.11612,     0.11712,     0.11812,     0.11912,\n",
            "           0.12012,     0.12112,     0.12212,     0.12312,     0.12412,     0.12513,     0.12613,     0.12713,     0.12813,     0.12913,     0.13013,     0.13113,     0.13213,     0.13313,     0.13413,     0.13514,     0.13614,     0.13714,     0.13814,     0.13914,     0.14014,     0.14114,     0.14214,     0.14314,\n",
            "           0.14414,     0.14515,     0.14615,     0.14715,     0.14815,     0.14915,     0.15015,     0.15115,     0.15215,     0.15315,     0.15415,     0.15516,     0.15616,     0.15716,     0.15816,     0.15916,     0.16016,     0.16116,     0.16216,     0.16316,     0.16416,     0.16517,     0.16617,     0.16717,\n",
            "           0.16817,     0.16917,     0.17017,     0.17117,     0.17217,     0.17317,     0.17417,     0.17518,     0.17618,     0.17718,     0.17818,     0.17918,     0.18018,     0.18118,     0.18218,     0.18318,     0.18418,     0.18519,     0.18619,     0.18719,     0.18819,     0.18919,     0.19019,     0.19119,\n",
            "           0.19219,     0.19319,     0.19419,      0.1952,      0.1962,      0.1972,      0.1982,      0.1992,      0.2002,      0.2012,      0.2022,      0.2032,      0.2042,     0.20521,     0.20621,     0.20721,     0.20821,     0.20921,     0.21021,     0.21121,     0.21221,     0.21321,     0.21421,     0.21522,\n",
            "           0.21622,     0.21722,     0.21822,     0.21922,     0.22022,     0.22122,     0.22222,     0.22322,     0.22422,     0.22523,     0.22623,     0.22723,     0.22823,     0.22923,     0.23023,     0.23123,     0.23223,     0.23323,     0.23423,     0.23524,     0.23624,     0.23724,     0.23824,     0.23924,\n",
            "           0.24024,     0.24124,     0.24224,     0.24324,     0.24424,     0.24525,     0.24625,     0.24725,     0.24825,     0.24925,     0.25025,     0.25125,     0.25225,     0.25325,     0.25425,     0.25526,     0.25626,     0.25726,     0.25826,     0.25926,     0.26026,     0.26126,     0.26226,     0.26326,\n",
            "           0.26426,     0.26527,     0.26627,     0.26727,     0.26827,     0.26927,     0.27027,     0.27127,     0.27227,     0.27327,     0.27427,     0.27528,     0.27628,     0.27728,     0.27828,     0.27928,     0.28028,     0.28128,     0.28228,     0.28328,     0.28428,     0.28529,     0.28629,     0.28729,\n",
            "           0.28829,     0.28929,     0.29029,     0.29129,     0.29229,     0.29329,     0.29429,      0.2953,      0.2963,      0.2973,      0.2983,      0.2993,      0.3003,      0.3013,      0.3023,      0.3033,      0.3043,     0.30531,     0.30631,     0.30731,     0.30831,     0.30931,     0.31031,     0.31131,\n",
            "           0.31231,     0.31331,     0.31431,     0.31532,     0.31632,     0.31732,     0.31832,     0.31932,     0.32032,     0.32132,     0.32232,     0.32332,     0.32432,     0.32533,     0.32633,     0.32733,     0.32833,     0.32933,     0.33033,     0.33133,     0.33233,     0.33333,     0.33433,     0.33534,\n",
            "           0.33634,     0.33734,     0.33834,     0.33934,     0.34034,     0.34134,     0.34234,     0.34334,     0.34434,     0.34535,     0.34635,     0.34735,     0.34835,     0.34935,     0.35035,     0.35135,     0.35235,     0.35335,     0.35435,     0.35536,     0.35636,     0.35736,     0.35836,     0.35936,\n",
            "           0.36036,     0.36136,     0.36236,     0.36336,     0.36436,     0.36537,     0.36637,     0.36737,     0.36837,     0.36937,     0.37037,     0.37137,     0.37237,     0.37337,     0.37437,     0.37538,     0.37638,     0.37738,     0.37838,     0.37938,     0.38038,     0.38138,     0.38238,     0.38338,\n",
            "           0.38438,     0.38539,     0.38639,     0.38739,     0.38839,     0.38939,     0.39039,     0.39139,     0.39239,     0.39339,     0.39439,      0.3954,      0.3964,      0.3974,      0.3984,      0.3994,      0.4004,      0.4014,      0.4024,      0.4034,      0.4044,     0.40541,     0.40641,     0.40741,\n",
            "           0.40841,     0.40941,     0.41041,     0.41141,     0.41241,     0.41341,     0.41441,     0.41542,     0.41642,     0.41742,     0.41842,     0.41942,     0.42042,     0.42142,     0.42242,     0.42342,     0.42442,     0.42543,     0.42643,     0.42743,     0.42843,     0.42943,     0.43043,     0.43143,\n",
            "           0.43243,     0.43343,     0.43443,     0.43544,     0.43644,     0.43744,     0.43844,     0.43944,     0.44044,     0.44144,     0.44244,     0.44344,     0.44444,     0.44545,     0.44645,     0.44745,     0.44845,     0.44945,     0.45045,     0.45145,     0.45245,     0.45345,     0.45445,     0.45546,\n",
            "           0.45646,     0.45746,     0.45846,     0.45946,     0.46046,     0.46146,     0.46246,     0.46346,     0.46446,     0.46547,     0.46647,     0.46747,     0.46847,     0.46947,     0.47047,     0.47147,     0.47247,     0.47347,     0.47447,     0.47548,     0.47648,     0.47748,     0.47848,     0.47948,\n",
            "           0.48048,     0.48148,     0.48248,     0.48348,     0.48448,     0.48549,     0.48649,     0.48749,     0.48849,     0.48949,     0.49049,     0.49149,     0.49249,     0.49349,     0.49449,      0.4955,      0.4965,      0.4975,      0.4985,      0.4995,      0.5005,      0.5015,      0.5025,      0.5035,\n",
            "            0.5045,     0.50551,     0.50651,     0.50751,     0.50851,     0.50951,     0.51051,     0.51151,     0.51251,     0.51351,     0.51451,     0.51552,     0.51652,     0.51752,     0.51852,     0.51952,     0.52052,     0.52152,     0.52252,     0.52352,     0.52452,     0.52553,     0.52653,     0.52753,\n",
            "           0.52853,     0.52953,     0.53053,     0.53153,     0.53253,     0.53353,     0.53453,     0.53554,     0.53654,     0.53754,     0.53854,     0.53954,     0.54054,     0.54154,     0.54254,     0.54354,     0.54454,     0.54555,     0.54655,     0.54755,     0.54855,     0.54955,     0.55055,     0.55155,\n",
            "           0.55255,     0.55355,     0.55455,     0.55556,     0.55656,     0.55756,     0.55856,     0.55956,     0.56056,     0.56156,     0.56256,     0.56356,     0.56456,     0.56557,     0.56657,     0.56757,     0.56857,     0.56957,     0.57057,     0.57157,     0.57257,     0.57357,     0.57457,     0.57558,\n",
            "           0.57658,     0.57758,     0.57858,     0.57958,     0.58058,     0.58158,     0.58258,     0.58358,     0.58458,     0.58559,     0.58659,     0.58759,     0.58859,     0.58959,     0.59059,     0.59159,     0.59259,     0.59359,     0.59459,      0.5956,      0.5966,      0.5976,      0.5986,      0.5996,\n",
            "            0.6006,      0.6016,      0.6026,      0.6036,      0.6046,     0.60561,     0.60661,     0.60761,     0.60861,     0.60961,     0.61061,     0.61161,     0.61261,     0.61361,     0.61461,     0.61562,     0.61662,     0.61762,     0.61862,     0.61962,     0.62062,     0.62162,     0.62262,     0.62362,\n",
            "           0.62462,     0.62563,     0.62663,     0.62763,     0.62863,     0.62963,     0.63063,     0.63163,     0.63263,     0.63363,     0.63463,     0.63564,     0.63664,     0.63764,     0.63864,     0.63964,     0.64064,     0.64164,     0.64264,     0.64364,     0.64464,     0.64565,     0.64665,     0.64765,\n",
            "           0.64865,     0.64965,     0.65065,     0.65165,     0.65265,     0.65365,     0.65465,     0.65566,     0.65666,     0.65766,     0.65866,     0.65966,     0.66066,     0.66166,     0.66266,     0.66366,     0.66466,     0.66567,     0.66667,     0.66767,     0.66867,     0.66967,     0.67067,     0.67167,\n",
            "           0.67267,     0.67367,     0.67467,     0.67568,     0.67668,     0.67768,     0.67868,     0.67968,     0.68068,     0.68168,     0.68268,     0.68368,     0.68468,     0.68569,     0.68669,     0.68769,     0.68869,     0.68969,     0.69069,     0.69169,     0.69269,     0.69369,     0.69469,      0.6957,\n",
            "            0.6967,      0.6977,      0.6987,      0.6997,      0.7007,      0.7017,      0.7027,      0.7037,      0.7047,     0.70571,     0.70671,     0.70771,     0.70871,     0.70971,     0.71071,     0.71171,     0.71271,     0.71371,     0.71471,     0.71572,     0.71672,     0.71772,     0.71872,     0.71972,\n",
            "           0.72072,     0.72172,     0.72272,     0.72372,     0.72472,     0.72573,     0.72673,     0.72773,     0.72873,     0.72973,     0.73073,     0.73173,     0.73273,     0.73373,     0.73473,     0.73574,     0.73674,     0.73774,     0.73874,     0.73974,     0.74074,     0.74174,     0.74274,     0.74374,\n",
            "           0.74474,     0.74575,     0.74675,     0.74775,     0.74875,     0.74975,     0.75075,     0.75175,     0.75275,     0.75375,     0.75475,     0.75576,     0.75676,     0.75776,     0.75876,     0.75976,     0.76076,     0.76176,     0.76276,     0.76376,     0.76476,     0.76577,     0.76677,     0.76777,\n",
            "           0.76877,     0.76977,     0.77077,     0.77177,     0.77277,     0.77377,     0.77477,     0.77578,     0.77678,     0.77778,     0.77878,     0.77978,     0.78078,     0.78178,     0.78278,     0.78378,     0.78478,     0.78579,     0.78679,     0.78779,     0.78879,     0.78979,     0.79079,     0.79179,\n",
            "           0.79279,     0.79379,     0.79479,      0.7958,      0.7968,      0.7978,      0.7988,      0.7998,      0.8008,      0.8018,      0.8028,      0.8038,      0.8048,     0.80581,     0.80681,     0.80781,     0.80881,     0.80981,     0.81081,     0.81181,     0.81281,     0.81381,     0.81481,     0.81582,\n",
            "           0.81682,     0.81782,     0.81882,     0.81982,     0.82082,     0.82182,     0.82282,     0.82382,     0.82482,     0.82583,     0.82683,     0.82783,     0.82883,     0.82983,     0.83083,     0.83183,     0.83283,     0.83383,     0.83483,     0.83584,     0.83684,     0.83784,     0.83884,     0.83984,\n",
            "           0.84084,     0.84184,     0.84284,     0.84384,     0.84484,     0.84585,     0.84685,     0.84785,     0.84885,     0.84985,     0.85085,     0.85185,     0.85285,     0.85385,     0.85485,     0.85586,     0.85686,     0.85786,     0.85886,     0.85986,     0.86086,     0.86186,     0.86286,     0.86386,\n",
            "           0.86486,     0.86587,     0.86687,     0.86787,     0.86887,     0.86987,     0.87087,     0.87187,     0.87287,     0.87387,     0.87487,     0.87588,     0.87688,     0.87788,     0.87888,     0.87988,     0.88088,     0.88188,     0.88288,     0.88388,     0.88488,     0.88589,     0.88689,     0.88789,\n",
            "           0.88889,     0.88989,     0.89089,     0.89189,     0.89289,     0.89389,     0.89489,      0.8959,      0.8969,      0.8979,      0.8989,      0.8999,      0.9009,      0.9019,      0.9029,      0.9039,      0.9049,     0.90591,     0.90691,     0.90791,     0.90891,     0.90991,     0.91091,     0.91191,\n",
            "           0.91291,     0.91391,     0.91491,     0.91592,     0.91692,     0.91792,     0.91892,     0.91992,     0.92092,     0.92192,     0.92292,     0.92392,     0.92492,     0.92593,     0.92693,     0.92793,     0.92893,     0.92993,     0.93093,     0.93193,     0.93293,     0.93393,     0.93493,     0.93594,\n",
            "           0.93694,     0.93794,     0.93894,     0.93994,     0.94094,     0.94194,     0.94294,     0.94394,     0.94494,     0.94595,     0.94695,     0.94795,     0.94895,     0.94995,     0.95095,     0.95195,     0.95295,     0.95395,     0.95495,     0.95596,     0.95696,     0.95796,     0.95896,     0.95996,\n",
            "           0.96096,     0.96196,     0.96296,     0.96396,     0.96496,     0.96597,     0.96697,     0.96797,     0.96897,     0.96997,     0.97097,     0.97197,     0.97297,     0.97397,     0.97497,     0.97598,     0.97698,     0.97798,     0.97898,     0.97998,     0.98098,     0.98198,     0.98298,     0.98398,\n",
            "           0.98498,     0.98599,     0.98699,     0.98799,     0.98899,     0.98999,     0.99099,     0.99199,     0.99299,     0.99399,     0.99499,       0.996,       0.997,       0.998,       0.999,           1]), array([[     0.3916,      0.3918,     0.52259,     0.60038,     0.65105,     0.68694,     0.71518,     0.73809,     0.75669,     0.76983,     0.78183,     0.79154,     0.79856,     0.81027,     0.81559,     0.82074,     0.82807,     0.83312,     0.83745,     0.84414,     0.84873,     0.85269,     0.85643,\n",
            "             0.8604,     0.86457,     0.86972,     0.87301,     0.87783,      0.8814,     0.88233,     0.88544,      0.8874,     0.88892,     0.89127,     0.89262,     0.89332,     0.89585,     0.89784,         0.9,     0.90108,     0.90225,     0.90244,     0.90263,     0.90494,     0.90634,      0.9075,\n",
            "             0.9088,     0.91047,     0.91185,     0.91387,     0.91589,     0.91657,     0.91787,     0.91894,     0.92014,     0.92043,     0.92079,     0.92173,     0.92488,     0.92579,     0.92619,     0.92664,     0.92783,     0.92863,      0.9292,     0.93021,     0.93167,     0.93238,     0.93267,\n",
            "            0.93335,     0.93367,     0.93423,     0.93503,      0.9355,     0.93601,     0.93634,     0.93649,     0.93663,     0.93707,     0.93798,     0.93873,     0.93915,     0.93937,     0.93958,     0.94012,     0.94068,     0.94137,     0.94188,     0.94248,     0.94335,      0.9444,     0.94615,\n",
            "            0.94664,     0.94697,     0.94767,      0.9479,     0.94795,     0.94815,     0.94837,     0.94893,     0.94947,     0.94976,     0.95059,     0.95094,     0.95095,     0.95164,     0.95187,     0.95186,     0.95198,     0.95216,     0.95234,     0.95245,     0.95255,     0.95265,     0.95275,\n",
            "            0.95285,     0.95316,     0.95335,     0.95349,     0.95422,     0.95458,     0.95484,     0.95533,      0.9554,     0.95557,     0.95574,     0.95641,      0.9569,     0.95723,     0.95742,     0.95753,     0.95764,     0.95774,     0.95785,     0.95816,     0.95844,     0.95859,     0.95874,\n",
            "            0.95888,     0.95926,     0.95962,     0.96044,     0.96058,     0.96072,     0.96085,     0.96102,     0.96122,     0.96142,     0.96143,     0.96142,     0.96141,     0.96141,      0.9614,     0.96139,     0.96151,     0.96188,     0.96193,     0.96198,     0.96203,     0.96208,     0.96213,\n",
            "            0.96217,     0.96222,     0.96227,     0.96232,     0.96237,     0.96279,     0.96303,     0.96319,     0.96335,     0.96343,     0.96345,     0.96346,     0.96348,      0.9635,     0.96351,     0.96353,     0.96354,     0.96356,     0.96358,     0.96359,     0.96361,     0.96363,     0.96364,\n",
            "            0.96366,     0.96367,     0.96369,     0.96371,     0.96372,     0.96374,     0.96376,     0.96377,     0.96379,      0.9638,     0.96382,     0.96384,     0.96385,     0.96387,     0.96389,      0.9639,     0.96392,     0.96393,     0.96404,     0.96418,     0.96433,     0.96447,     0.96454,\n",
            "            0.96461,     0.96469,     0.96476,     0.96484,     0.96491,      0.9651,     0.96601,     0.96601,     0.96613,     0.96642,     0.96704,     0.96704,     0.96703,     0.96703,     0.96757,     0.96771,     0.96785,     0.96798,     0.96807,     0.96807,     0.96806,     0.96806,     0.96816,\n",
            "            0.96826,     0.96836,     0.96846,     0.96857,     0.96874,     0.96893,     0.96911,     0.96918,     0.96924,     0.96931,     0.96937,     0.96944,     0.96951,     0.96957,     0.96963,     0.96962,     0.96962,     0.96993,     0.97025,     0.97052,     0.97066,     0.97135,      0.9716,\n",
            "            0.97179,     0.97195,      0.9721,     0.97277,     0.97291,     0.97305,     0.97318,     0.97332,     0.97349,     0.97365,     0.97381,     0.97412,     0.97436,     0.97436,     0.97436,     0.97435,     0.97435,     0.97435,     0.97435,     0.97435,     0.97435,     0.97435,     0.97435,\n",
            "            0.97434,     0.97434,     0.97457,     0.97495,     0.97504,     0.97513,     0.97522,     0.97532,     0.97546,     0.97596,     0.97646,     0.97645,     0.97646,     0.97649,     0.97652,     0.97654,     0.97657,     0.97659,     0.97662,     0.97665,     0.97667,      0.9767,     0.97672,\n",
            "            0.97675,     0.97678,      0.9768,     0.97683,     0.97686,     0.97688,     0.97691,     0.97693,     0.97696,     0.97699,     0.97705,     0.97711,     0.97716,     0.97722,     0.97728,     0.97734,      0.9774,     0.97746,     0.97752,     0.97752,     0.97752,     0.97752,     0.97752,\n",
            "            0.97752,     0.97752,     0.97752,     0.97752,     0.97752,     0.97752,     0.97752,     0.97752,     0.97751,     0.97751,     0.97751,     0.97751,     0.97751,     0.97751,     0.97751,     0.97751,     0.97751,     0.97751,     0.97751,       0.978,     0.97815,     0.97826,     0.97837,\n",
            "            0.97848,     0.97858,     0.97858,     0.97857,     0.97857,     0.97856,     0.97864,     0.97912,     0.97918,     0.97925,     0.97932,     0.97939,     0.97946,     0.97953,      0.9796,      0.9798,     0.98008,     0.98024,     0.98036,     0.98047,     0.98058,     0.98069,      0.9807,\n",
            "            0.98071,     0.98072,     0.98074,     0.98076,     0.98078,     0.98079,     0.98081,     0.98083,     0.98085,     0.98087,     0.98088,      0.9809,     0.98092,     0.98094,     0.98096,     0.98097,     0.98099,     0.98101,     0.98103,     0.98104,     0.98106,     0.98108,      0.9811,\n",
            "            0.98112,     0.98113,     0.98115,     0.98117,     0.98119,     0.98121,     0.98122,     0.98125,      0.9813,     0.98135,      0.9814,     0.98145,      0.9815,     0.98154,     0.98159,     0.98164,     0.98169,     0.98174,     0.98178,     0.98178,     0.98178,     0.98178,     0.98177,\n",
            "            0.98177,     0.98177,     0.98177,     0.98177,     0.98177,     0.98177,     0.98177,      0.9818,     0.98184,     0.98188,     0.98192,     0.98196,       0.982,     0.98203,     0.98207,     0.98211,     0.98215,     0.98219,     0.98223,     0.98226,      0.9823,     0.98231,      0.9823,\n",
            "             0.9823,      0.9823,     0.98229,     0.98234,     0.98247,      0.9826,     0.98273,       0.983,     0.98338,     0.98338,     0.98338,     0.98338,     0.98337,     0.98337,     0.98337,     0.98337,     0.98341,     0.98352,     0.98363,     0.98374,     0.98385,     0.98399,     0.98417,\n",
            "            0.98435,     0.98448,     0.98451,     0.98455,     0.98459,     0.98463,     0.98466,      0.9847,     0.98474,     0.98477,     0.98481,     0.98485,     0.98489,     0.98492,     0.98496,       0.985,     0.98514,     0.98555,     0.98554,     0.98554,     0.98554,     0.98554,     0.98554,\n",
            "            0.98554,     0.98554,     0.98553,     0.98553,     0.98553,     0.98553,     0.98553,     0.98553,     0.98575,     0.98601,     0.98615,     0.98623,     0.98632,     0.98641,      0.9865,     0.98659,     0.98663,     0.98663,     0.98662,     0.98662,     0.98664,     0.98667,      0.9867,\n",
            "            0.98672,     0.98675,     0.98678,     0.98681,     0.98684,     0.98686,     0.98689,     0.98692,     0.98695,     0.98697,       0.987,     0.98703,     0.98706,     0.98709,     0.98711,     0.98714,     0.98717,     0.98733,      0.9875,     0.98767,     0.98772,     0.98772,     0.98772,\n",
            "            0.98772,     0.98772,     0.98772,     0.98772,     0.98771,     0.98771,      0.9877,      0.9877,      0.9877,     0.98769,     0.98769,     0.98769,     0.98769,     0.98769,     0.98769,     0.98769,     0.98769,     0.98769,     0.98769,     0.98769,     0.98769,     0.98769,     0.98769,\n",
            "            0.98769,     0.98768,     0.98772,     0.98796,     0.98819,     0.98824,     0.98823,     0.98823,     0.98823,     0.98823,     0.98823,     0.98823,     0.98823,     0.98823,     0.98823,     0.98823,     0.98823,     0.98823,     0.98823,     0.98823,     0.98823,     0.98823,     0.98823,\n",
            "            0.98823,     0.98823,     0.98823,     0.98823,     0.98823,     0.98823,     0.98827,     0.98841,     0.98856,      0.9887,     0.98878,     0.98878,     0.98878,     0.98878,     0.98878,     0.98878,     0.98878,     0.98878,     0.98877,     0.98877,     0.98876,     0.98876,     0.98876,\n",
            "            0.98876,     0.98902,     0.98946,     0.98977,     0.98987,     0.98986,     0.98986,     0.98986,     0.98986,     0.98986,        0.99,     0.99022,     0.99042,     0.99042,     0.99041,     0.99041,     0.99041,     0.99041,     0.99041,     0.99041,     0.99041,      0.9904,      0.9904,\n",
            "             0.9904,      0.9904,      0.9904,      0.9904,     0.99095,     0.99095,     0.99095,     0.99095,     0.99095,     0.99094,     0.99094,     0.99094,     0.99097,     0.99101,     0.99106,     0.99111,     0.99116,     0.99121,     0.99125,      0.9913,     0.99135,      0.9914,     0.99144,\n",
            "            0.99149,     0.99149,     0.99149,     0.99149,     0.99149,     0.99149,     0.99148,     0.99148,     0.99148,     0.99148,     0.99148,     0.99148,     0.99148,     0.99148,     0.99148,     0.99148,     0.99148,     0.99148,     0.99147,     0.99147,     0.99149,     0.99177,     0.99204,\n",
            "            0.99203,     0.99203,     0.99202,     0.99202,     0.99202,     0.99213,     0.99257,     0.99257,     0.99257,      0.9932,     0.99331,     0.99342,     0.99353,     0.99365,      0.9937,      0.9937,     0.99369,     0.99369,     0.99369,     0.99369,     0.99369,     0.99369,     0.99368,\n",
            "            0.99371,     0.99425,     0.99425,     0.99425,     0.99425,     0.99425,     0.99425,     0.99425,     0.99482,     0.99496,     0.99538,     0.99538,     0.99538,     0.99538,     0.99539,     0.99572,     0.99595,     0.99595,     0.99595,     0.99594,     0.99594,     0.99594,     0.99593,\n",
            "            0.99593,     0.99593,     0.99592,     0.99592,     0.99592,     0.99591,     0.99591,     0.99591,     0.99591,      0.9959,      0.9959,      0.9959,     0.99589,     0.99588,     0.99587,     0.99587,     0.99587,     0.99587,     0.99587,     0.99586,     0.99586,     0.99585,     0.99584,\n",
            "            0.99583,     0.99583,     0.99582,     0.99582,     0.99581,      0.9958,      0.9958,     0.99579,     0.99578,     0.99577,     0.99576,     0.99575,     0.99575,     0.99574,     0.99573,     0.99571,      0.9963,     0.99628,     0.99626,     0.99624,     0.99624,     0.99624,     0.99622,\n",
            "            0.99621,      0.9962,     0.99618,      0.9968,     0.99679,     0.99678,     0.99677,     0.99676,     0.99675,     0.99674,     0.99673,     0.99671,     0.99671,      0.9967,     0.99669,     0.99668,     0.99667,     0.99667,     0.99667,     0.99665,     0.99731,     0.99731,      0.9973,\n",
            "             0.9973,     0.99729,     0.99727,     0.99727,     0.99726,     0.99725,     0.99724,     0.99722,     0.99721,     0.99743,     0.99789,     0.99788,     0.99788,     0.99787,     0.99786,     0.99784,     0.99783,     0.99782,      0.9978,     0.99778,     0.99775,     0.99773,     0.99769,\n",
            "            0.99767,     0.99764,     0.99782,     0.99839,     0.99836,     0.99832,     0.99829,     0.99825,     0.99821,     0.99818,     0.99813,     0.99808,     0.99802,     0.99795,     0.99791,     0.99785,     0.99781,     0.99777,     0.99772,     0.99766,     0.99762,     0.99758,      0.9975,\n",
            "            0.99745,     0.99738,     0.99733,     0.99729,     0.99724,     0.99722,     0.99717,     0.99856,     0.99854,     0.99851,     0.99847,     0.99845,     0.99843,     0.99842,     0.99841,     0.99839,     0.99838,     0.99837,     0.99834,     0.99833,      0.9983,     0.99829,     0.99829,\n",
            "            0.99827,     0.99825,     0.99823,     0.99822,     0.99821,     0.99819,     0.99816,     0.99813,     0.99812,     0.99808,     0.99808,           1,           1,           1,           1,           1,           1,           1,           1,           1,           1,           1,           1,\n",
            "                  1,           1,           1,           1,           1,           1,           1,           1,           1,           1,           1,           1,           1,           1,           1,           1,           1,           1,           1,           1,           1,           1,           1,\n",
            "                  1,           1,           1,           1,           1,           1,           1,           1,           1,           1,           1,           1,           1,           1,           1,           1,           1,           1,           1,           1,           1,           1,           1,\n",
            "                  1,           1,           1,           1,           1,           1,           1,           1,           1,           1,           1,           1,           1,           1,           1,           1,           1,           1,           1,           1,           1,           1,           1,\n",
            "                  1,           1,           1,           1,           1,           1,           1,           1,           1,           1,           1,           1,           1,           1,           1,           1,           1,           1,           1,           1,           1,           1,           1,\n",
            "                  1,           1,           1,           1,           1,           1,           1,           1,           1,           1,           1,           1,           1,           1,           1,           1,           1,           1,           1,           1,           1,           1,           1,\n",
            "                  1,           1,           1,           1,           1,           1,           1,           1,           1,           1,           1]]), 'Confidence', 'Precision'], [array([          0,    0.001001,    0.002002,    0.003003,    0.004004,    0.005005,    0.006006,    0.007007,    0.008008,    0.009009,     0.01001,    0.011011,    0.012012,    0.013013,    0.014014,    0.015015,    0.016016,    0.017017,    0.018018,    0.019019,     0.02002,    0.021021,    0.022022,    0.023023,\n",
            "          0.024024,    0.025025,    0.026026,    0.027027,    0.028028,    0.029029,     0.03003,    0.031031,    0.032032,    0.033033,    0.034034,    0.035035,    0.036036,    0.037037,    0.038038,    0.039039,     0.04004,    0.041041,    0.042042,    0.043043,    0.044044,    0.045045,    0.046046,    0.047047,\n",
            "          0.048048,    0.049049,     0.05005,    0.051051,    0.052052,    0.053053,    0.054054,    0.055055,    0.056056,    0.057057,    0.058058,    0.059059,     0.06006,    0.061061,    0.062062,    0.063063,    0.064064,    0.065065,    0.066066,    0.067067,    0.068068,    0.069069,     0.07007,    0.071071,\n",
            "          0.072072,    0.073073,    0.074074,    0.075075,    0.076076,    0.077077,    0.078078,    0.079079,     0.08008,    0.081081,    0.082082,    0.083083,    0.084084,    0.085085,    0.086086,    0.087087,    0.088088,    0.089089,     0.09009,    0.091091,    0.092092,    0.093093,    0.094094,    0.095095,\n",
            "          0.096096,    0.097097,    0.098098,    0.099099,      0.1001,      0.1011,      0.1021,      0.1031,      0.1041,     0.10511,     0.10611,     0.10711,     0.10811,     0.10911,     0.11011,     0.11111,     0.11211,     0.11311,     0.11411,     0.11512,     0.11612,     0.11712,     0.11812,     0.11912,\n",
            "           0.12012,     0.12112,     0.12212,     0.12312,     0.12412,     0.12513,     0.12613,     0.12713,     0.12813,     0.12913,     0.13013,     0.13113,     0.13213,     0.13313,     0.13413,     0.13514,     0.13614,     0.13714,     0.13814,     0.13914,     0.14014,     0.14114,     0.14214,     0.14314,\n",
            "           0.14414,     0.14515,     0.14615,     0.14715,     0.14815,     0.14915,     0.15015,     0.15115,     0.15215,     0.15315,     0.15415,     0.15516,     0.15616,     0.15716,     0.15816,     0.15916,     0.16016,     0.16116,     0.16216,     0.16316,     0.16416,     0.16517,     0.16617,     0.16717,\n",
            "           0.16817,     0.16917,     0.17017,     0.17117,     0.17217,     0.17317,     0.17417,     0.17518,     0.17618,     0.17718,     0.17818,     0.17918,     0.18018,     0.18118,     0.18218,     0.18318,     0.18418,     0.18519,     0.18619,     0.18719,     0.18819,     0.18919,     0.19019,     0.19119,\n",
            "           0.19219,     0.19319,     0.19419,      0.1952,      0.1962,      0.1972,      0.1982,      0.1992,      0.2002,      0.2012,      0.2022,      0.2032,      0.2042,     0.20521,     0.20621,     0.20721,     0.20821,     0.20921,     0.21021,     0.21121,     0.21221,     0.21321,     0.21421,     0.21522,\n",
            "           0.21622,     0.21722,     0.21822,     0.21922,     0.22022,     0.22122,     0.22222,     0.22322,     0.22422,     0.22523,     0.22623,     0.22723,     0.22823,     0.22923,     0.23023,     0.23123,     0.23223,     0.23323,     0.23423,     0.23524,     0.23624,     0.23724,     0.23824,     0.23924,\n",
            "           0.24024,     0.24124,     0.24224,     0.24324,     0.24424,     0.24525,     0.24625,     0.24725,     0.24825,     0.24925,     0.25025,     0.25125,     0.25225,     0.25325,     0.25425,     0.25526,     0.25626,     0.25726,     0.25826,     0.25926,     0.26026,     0.26126,     0.26226,     0.26326,\n",
            "           0.26426,     0.26527,     0.26627,     0.26727,     0.26827,     0.26927,     0.27027,     0.27127,     0.27227,     0.27327,     0.27427,     0.27528,     0.27628,     0.27728,     0.27828,     0.27928,     0.28028,     0.28128,     0.28228,     0.28328,     0.28428,     0.28529,     0.28629,     0.28729,\n",
            "           0.28829,     0.28929,     0.29029,     0.29129,     0.29229,     0.29329,     0.29429,      0.2953,      0.2963,      0.2973,      0.2983,      0.2993,      0.3003,      0.3013,      0.3023,      0.3033,      0.3043,     0.30531,     0.30631,     0.30731,     0.30831,     0.30931,     0.31031,     0.31131,\n",
            "           0.31231,     0.31331,     0.31431,     0.31532,     0.31632,     0.31732,     0.31832,     0.31932,     0.32032,     0.32132,     0.32232,     0.32332,     0.32432,     0.32533,     0.32633,     0.32733,     0.32833,     0.32933,     0.33033,     0.33133,     0.33233,     0.33333,     0.33433,     0.33534,\n",
            "           0.33634,     0.33734,     0.33834,     0.33934,     0.34034,     0.34134,     0.34234,     0.34334,     0.34434,     0.34535,     0.34635,     0.34735,     0.34835,     0.34935,     0.35035,     0.35135,     0.35235,     0.35335,     0.35435,     0.35536,     0.35636,     0.35736,     0.35836,     0.35936,\n",
            "           0.36036,     0.36136,     0.36236,     0.36336,     0.36436,     0.36537,     0.36637,     0.36737,     0.36837,     0.36937,     0.37037,     0.37137,     0.37237,     0.37337,     0.37437,     0.37538,     0.37638,     0.37738,     0.37838,     0.37938,     0.38038,     0.38138,     0.38238,     0.38338,\n",
            "           0.38438,     0.38539,     0.38639,     0.38739,     0.38839,     0.38939,     0.39039,     0.39139,     0.39239,     0.39339,     0.39439,      0.3954,      0.3964,      0.3974,      0.3984,      0.3994,      0.4004,      0.4014,      0.4024,      0.4034,      0.4044,     0.40541,     0.40641,     0.40741,\n",
            "           0.40841,     0.40941,     0.41041,     0.41141,     0.41241,     0.41341,     0.41441,     0.41542,     0.41642,     0.41742,     0.41842,     0.41942,     0.42042,     0.42142,     0.42242,     0.42342,     0.42442,     0.42543,     0.42643,     0.42743,     0.42843,     0.42943,     0.43043,     0.43143,\n",
            "           0.43243,     0.43343,     0.43443,     0.43544,     0.43644,     0.43744,     0.43844,     0.43944,     0.44044,     0.44144,     0.44244,     0.44344,     0.44444,     0.44545,     0.44645,     0.44745,     0.44845,     0.44945,     0.45045,     0.45145,     0.45245,     0.45345,     0.45445,     0.45546,\n",
            "           0.45646,     0.45746,     0.45846,     0.45946,     0.46046,     0.46146,     0.46246,     0.46346,     0.46446,     0.46547,     0.46647,     0.46747,     0.46847,     0.46947,     0.47047,     0.47147,     0.47247,     0.47347,     0.47447,     0.47548,     0.47648,     0.47748,     0.47848,     0.47948,\n",
            "           0.48048,     0.48148,     0.48248,     0.48348,     0.48448,     0.48549,     0.48649,     0.48749,     0.48849,     0.48949,     0.49049,     0.49149,     0.49249,     0.49349,     0.49449,      0.4955,      0.4965,      0.4975,      0.4985,      0.4995,      0.5005,      0.5015,      0.5025,      0.5035,\n",
            "            0.5045,     0.50551,     0.50651,     0.50751,     0.50851,     0.50951,     0.51051,     0.51151,     0.51251,     0.51351,     0.51451,     0.51552,     0.51652,     0.51752,     0.51852,     0.51952,     0.52052,     0.52152,     0.52252,     0.52352,     0.52452,     0.52553,     0.52653,     0.52753,\n",
            "           0.52853,     0.52953,     0.53053,     0.53153,     0.53253,     0.53353,     0.53453,     0.53554,     0.53654,     0.53754,     0.53854,     0.53954,     0.54054,     0.54154,     0.54254,     0.54354,     0.54454,     0.54555,     0.54655,     0.54755,     0.54855,     0.54955,     0.55055,     0.55155,\n",
            "           0.55255,     0.55355,     0.55455,     0.55556,     0.55656,     0.55756,     0.55856,     0.55956,     0.56056,     0.56156,     0.56256,     0.56356,     0.56456,     0.56557,     0.56657,     0.56757,     0.56857,     0.56957,     0.57057,     0.57157,     0.57257,     0.57357,     0.57457,     0.57558,\n",
            "           0.57658,     0.57758,     0.57858,     0.57958,     0.58058,     0.58158,     0.58258,     0.58358,     0.58458,     0.58559,     0.58659,     0.58759,     0.58859,     0.58959,     0.59059,     0.59159,     0.59259,     0.59359,     0.59459,      0.5956,      0.5966,      0.5976,      0.5986,      0.5996,\n",
            "            0.6006,      0.6016,      0.6026,      0.6036,      0.6046,     0.60561,     0.60661,     0.60761,     0.60861,     0.60961,     0.61061,     0.61161,     0.61261,     0.61361,     0.61461,     0.61562,     0.61662,     0.61762,     0.61862,     0.61962,     0.62062,     0.62162,     0.62262,     0.62362,\n",
            "           0.62462,     0.62563,     0.62663,     0.62763,     0.62863,     0.62963,     0.63063,     0.63163,     0.63263,     0.63363,     0.63463,     0.63564,     0.63664,     0.63764,     0.63864,     0.63964,     0.64064,     0.64164,     0.64264,     0.64364,     0.64464,     0.64565,     0.64665,     0.64765,\n",
            "           0.64865,     0.64965,     0.65065,     0.65165,     0.65265,     0.65365,     0.65465,     0.65566,     0.65666,     0.65766,     0.65866,     0.65966,     0.66066,     0.66166,     0.66266,     0.66366,     0.66466,     0.66567,     0.66667,     0.66767,     0.66867,     0.66967,     0.67067,     0.67167,\n",
            "           0.67267,     0.67367,     0.67467,     0.67568,     0.67668,     0.67768,     0.67868,     0.67968,     0.68068,     0.68168,     0.68268,     0.68368,     0.68468,     0.68569,     0.68669,     0.68769,     0.68869,     0.68969,     0.69069,     0.69169,     0.69269,     0.69369,     0.69469,      0.6957,\n",
            "            0.6967,      0.6977,      0.6987,      0.6997,      0.7007,      0.7017,      0.7027,      0.7037,      0.7047,     0.70571,     0.70671,     0.70771,     0.70871,     0.70971,     0.71071,     0.71171,     0.71271,     0.71371,     0.71471,     0.71572,     0.71672,     0.71772,     0.71872,     0.71972,\n",
            "           0.72072,     0.72172,     0.72272,     0.72372,     0.72472,     0.72573,     0.72673,     0.72773,     0.72873,     0.72973,     0.73073,     0.73173,     0.73273,     0.73373,     0.73473,     0.73574,     0.73674,     0.73774,     0.73874,     0.73974,     0.74074,     0.74174,     0.74274,     0.74374,\n",
            "           0.74474,     0.74575,     0.74675,     0.74775,     0.74875,     0.74975,     0.75075,     0.75175,     0.75275,     0.75375,     0.75475,     0.75576,     0.75676,     0.75776,     0.75876,     0.75976,     0.76076,     0.76176,     0.76276,     0.76376,     0.76476,     0.76577,     0.76677,     0.76777,\n",
            "           0.76877,     0.76977,     0.77077,     0.77177,     0.77277,     0.77377,     0.77477,     0.77578,     0.77678,     0.77778,     0.77878,     0.77978,     0.78078,     0.78178,     0.78278,     0.78378,     0.78478,     0.78579,     0.78679,     0.78779,     0.78879,     0.78979,     0.79079,     0.79179,\n",
            "           0.79279,     0.79379,     0.79479,      0.7958,      0.7968,      0.7978,      0.7988,      0.7998,      0.8008,      0.8018,      0.8028,      0.8038,      0.8048,     0.80581,     0.80681,     0.80781,     0.80881,     0.80981,     0.81081,     0.81181,     0.81281,     0.81381,     0.81481,     0.81582,\n",
            "           0.81682,     0.81782,     0.81882,     0.81982,     0.82082,     0.82182,     0.82282,     0.82382,     0.82482,     0.82583,     0.82683,     0.82783,     0.82883,     0.82983,     0.83083,     0.83183,     0.83283,     0.83383,     0.83483,     0.83584,     0.83684,     0.83784,     0.83884,     0.83984,\n",
            "           0.84084,     0.84184,     0.84284,     0.84384,     0.84484,     0.84585,     0.84685,     0.84785,     0.84885,     0.84985,     0.85085,     0.85185,     0.85285,     0.85385,     0.85485,     0.85586,     0.85686,     0.85786,     0.85886,     0.85986,     0.86086,     0.86186,     0.86286,     0.86386,\n",
            "           0.86486,     0.86587,     0.86687,     0.86787,     0.86887,     0.86987,     0.87087,     0.87187,     0.87287,     0.87387,     0.87487,     0.87588,     0.87688,     0.87788,     0.87888,     0.87988,     0.88088,     0.88188,     0.88288,     0.88388,     0.88488,     0.88589,     0.88689,     0.88789,\n",
            "           0.88889,     0.88989,     0.89089,     0.89189,     0.89289,     0.89389,     0.89489,      0.8959,      0.8969,      0.8979,      0.8989,      0.8999,      0.9009,      0.9019,      0.9029,      0.9039,      0.9049,     0.90591,     0.90691,     0.90791,     0.90891,     0.90991,     0.91091,     0.91191,\n",
            "           0.91291,     0.91391,     0.91491,     0.91592,     0.91692,     0.91792,     0.91892,     0.91992,     0.92092,     0.92192,     0.92292,     0.92392,     0.92492,     0.92593,     0.92693,     0.92793,     0.92893,     0.92993,     0.93093,     0.93193,     0.93293,     0.93393,     0.93493,     0.93594,\n",
            "           0.93694,     0.93794,     0.93894,     0.93994,     0.94094,     0.94194,     0.94294,     0.94394,     0.94494,     0.94595,     0.94695,     0.94795,     0.94895,     0.94995,     0.95095,     0.95195,     0.95295,     0.95395,     0.95495,     0.95596,     0.95696,     0.95796,     0.95896,     0.95996,\n",
            "           0.96096,     0.96196,     0.96296,     0.96396,     0.96496,     0.96597,     0.96697,     0.96797,     0.96897,     0.96997,     0.97097,     0.97197,     0.97297,     0.97397,     0.97497,     0.97598,     0.97698,     0.97798,     0.97898,     0.97998,     0.98098,     0.98198,     0.98298,     0.98398,\n",
            "           0.98498,     0.98599,     0.98699,     0.98799,     0.98899,     0.98999,     0.99099,     0.99199,     0.99299,     0.99399,     0.99499,       0.996,       0.997,       0.998,       0.999,           1]), array([[    0.98859,     0.98859,     0.98804,     0.98696,     0.98696,     0.98696,     0.98696,     0.98641,     0.98533,     0.98478,     0.98478,     0.98424,     0.98424,     0.98424,      0.9837,      0.9837,      0.9837,      0.9837,      0.9837,      0.9837,      0.9837,      0.9837,      0.9837,\n",
            "             0.9837,      0.9837,      0.9837,      0.9837,      0.9837,      0.9837,     0.98315,     0.98315,     0.98315,     0.98315,     0.98315,     0.98315,       0.983,     0.98261,     0.98261,     0.98261,     0.98261,     0.98261,     0.98261,     0.98261,     0.98261,     0.98261,     0.98261,\n",
            "            0.98261,     0.98261,     0.98261,     0.98261,     0.98261,     0.98261,     0.98261,     0.98261,     0.98261,     0.98261,     0.98261,     0.98261,     0.98261,     0.98261,     0.98261,     0.98261,     0.98261,     0.98261,     0.98261,     0.98261,     0.98261,     0.98261,     0.98261,\n",
            "            0.98261,     0.98207,     0.98207,     0.98152,     0.98152,     0.98152,     0.98152,     0.98152,     0.98152,     0.98152,     0.98152,     0.98152,     0.98152,     0.98152,     0.98152,     0.98152,     0.98152,     0.98152,     0.98098,     0.98098,     0.98098,     0.98098,     0.98098,\n",
            "            0.98098,     0.98098,     0.98098,     0.98098,     0.97998,     0.97989,     0.97989,     0.97989,     0.97989,     0.97989,     0.97989,     0.97967,      0.9788,      0.9788,      0.9782,     0.97781,     0.97772,     0.97772,     0.97772,     0.97772,     0.97772,     0.97772,     0.97772,\n",
            "            0.97772,     0.97772,      0.9773,     0.97663,     0.97663,     0.97663,     0.97663,     0.97637,     0.97609,     0.97609,     0.97609,     0.97609,     0.97609,     0.97609,     0.97609,     0.97609,     0.97609,     0.97609,     0.97609,     0.97609,     0.97609,     0.97609,     0.97609,\n",
            "            0.97609,     0.97609,     0.97609,     0.97609,     0.97609,     0.97609,     0.97609,     0.97609,     0.97609,     0.97609,     0.97537,      0.9751,      0.9749,     0.97476,     0.97461,     0.97446,     0.97337,     0.97337,     0.97337,     0.97337,     0.97337,     0.97337,     0.97337,\n",
            "            0.97337,     0.97337,     0.97337,     0.97337,     0.97337,     0.97337,     0.97337,     0.97337,     0.97337,     0.97337,     0.97337,     0.97337,     0.97337,     0.97337,     0.97337,     0.97337,     0.97337,     0.97337,     0.97337,     0.97337,     0.97337,     0.97337,     0.97337,\n",
            "            0.97337,     0.97337,     0.97337,     0.97337,     0.97337,     0.97337,     0.97337,     0.97337,     0.97337,     0.97337,     0.97337,     0.97337,     0.97337,     0.97337,     0.97337,     0.97337,     0.97337,     0.97337,     0.97337,     0.97337,     0.97337,     0.97337,     0.97337,\n",
            "            0.97337,     0.97337,     0.97337,     0.97337,     0.97337,     0.97337,     0.97321,     0.97296,     0.97283,     0.97283,     0.97276,     0.97263,      0.9725,     0.97237,     0.97228,     0.97228,     0.97228,     0.97228,     0.97223,     0.97206,      0.9719,     0.97174,     0.97174,\n",
            "            0.97174,     0.97174,     0.97174,     0.97174,     0.97174,     0.97174,     0.97174,     0.97174,     0.97174,     0.97174,     0.97174,     0.97174,     0.97174,     0.97174,     0.97171,     0.97147,     0.97123,      0.9712,      0.9712,      0.9712,      0.9708,     0.97065,     0.97065,\n",
            "            0.97065,     0.97065,     0.97065,     0.97065,     0.97065,     0.97065,     0.97065,     0.97065,     0.97065,     0.97065,     0.97065,     0.97065,     0.97064,     0.97059,     0.97054,     0.97049,     0.97044,     0.97039,     0.97034,      0.9703,     0.97025,      0.9702,     0.97015,\n",
            "            0.97006,      0.9698,     0.96957,     0.96957,     0.96957,     0.96957,     0.96957,     0.96957,     0.96957,     0.96957,      0.9694,     0.96916,     0.96902,     0.96902,     0.96902,     0.96902,     0.96902,     0.96902,     0.96902,     0.96902,     0.96902,     0.96902,     0.96902,\n",
            "            0.96902,     0.96902,     0.96902,     0.96902,     0.96902,     0.96902,     0.96902,     0.96902,     0.96902,     0.96902,     0.96902,     0.96902,     0.96902,     0.96902,     0.96902,     0.96902,     0.96902,     0.96902,     0.96902,       0.969,     0.96898,     0.96895,     0.96893,\n",
            "             0.9689,     0.96888,     0.96886,     0.96883,     0.96881,     0.96879,     0.96876,     0.96874,     0.96871,     0.96869,     0.96867,     0.96864,     0.96862,      0.9686,     0.96857,     0.96855,     0.96853,      0.9685,     0.96848,     0.96848,     0.96848,     0.96848,     0.96848,\n",
            "            0.96848,     0.96844,      0.9681,     0.96786,      0.9677,     0.96754,     0.96739,     0.96685,     0.96685,     0.96685,     0.96685,     0.96685,     0.96685,     0.96685,     0.96685,     0.96685,     0.96685,     0.96685,     0.96685,     0.96685,     0.96685,     0.96685,     0.96648,\n",
            "             0.9663,      0.9663,      0.9663,      0.9663,      0.9663,      0.9663,      0.9663,      0.9663,      0.9663,      0.9663,      0.9663,      0.9663,      0.9663,      0.9663,      0.9663,      0.9663,      0.9663,      0.9663,      0.9663,      0.9663,      0.9663,      0.9663,      0.9663,\n",
            "             0.9663,      0.9663,      0.9663,      0.9663,      0.9663,      0.9663,      0.9663,      0.9663,      0.9663,      0.9663,      0.9663,      0.9663,      0.9663,      0.9663,      0.9663,      0.9663,      0.9663,      0.9663,     0.96629,     0.96625,      0.9662,     0.96615,      0.9661,\n",
            "            0.96605,     0.96601,     0.96596,     0.96591,     0.96586,     0.96581,     0.96577,     0.96576,     0.96576,     0.96576,     0.96576,     0.96576,     0.96576,     0.96576,     0.96576,     0.96576,     0.96576,     0.96576,     0.96576,     0.96576,     0.96576,     0.96558,     0.96537,\n",
            "            0.96516,     0.96498,     0.96479,     0.96467,     0.96467,     0.96467,     0.96467,     0.96467,     0.96464,     0.96458,     0.96451,     0.96444,     0.96437,     0.96431,     0.96424,     0.96417,     0.96413,     0.96413,     0.96413,     0.96413,     0.96413,     0.96413,     0.96413,\n",
            "            0.96413,     0.96413,     0.96413,     0.96413,     0.96413,     0.96413,     0.96413,     0.96413,     0.96413,     0.96413,     0.96413,     0.96413,     0.96413,     0.96413,     0.96413,     0.96413,     0.96359,     0.96347,     0.96304,     0.96299,     0.96295,      0.9629,     0.96286,\n",
            "            0.96281,     0.96277,     0.96273,     0.96268,     0.96264,     0.96259,     0.96255,     0.96251,      0.9625,      0.9625,      0.9625,      0.9625,      0.9625,      0.9625,      0.9625,      0.9625,     0.96242,     0.96228,     0.96214,       0.962,     0.96196,     0.96196,     0.96196,\n",
            "            0.96196,     0.96196,     0.96196,     0.96196,     0.96196,     0.96196,     0.96196,     0.96196,     0.96196,     0.96196,     0.96196,     0.96196,     0.96196,     0.96196,     0.96196,     0.96196,     0.96196,     0.96196,     0.96196,     0.96196,      0.9619,     0.96183,     0.96175,\n",
            "            0.96167,     0.96159,     0.96152,     0.96144,     0.96119,     0.96084,     0.96001,     0.95977,     0.95973,      0.9597,     0.95966,     0.95963,     0.95959,     0.95955,     0.95952,     0.95948,     0.95945,     0.95941,     0.95938,     0.95934,     0.95931,     0.95927,     0.95923,\n",
            "            0.95904,     0.95885,      0.9587,      0.9587,      0.9587,     0.95868,     0.95866,     0.95863,     0.95861,     0.95859,     0.95857,     0.95854,     0.95852,      0.9585,     0.95848,     0.95846,     0.95843,     0.95841,     0.95839,     0.95837,     0.95835,     0.95832,      0.9583,\n",
            "            0.95828,     0.95826,     0.95823,     0.95821,     0.95819,     0.95817,     0.95815,     0.95815,     0.95815,     0.95815,     0.95812,     0.95804,     0.95796,     0.95788,     0.95781,     0.95773,     0.95765,     0.95749,     0.95722,     0.95691,     0.95652,     0.95636,     0.95621,\n",
            "            0.95606,     0.95598,     0.95598,     0.95598,      0.9557,      0.9554,     0.95528,     0.95516,     0.95505,     0.95493,     0.95489,     0.95489,     0.95488,     0.95478,     0.95468,     0.95457,     0.95447,     0.95437,     0.95416,     0.95393,     0.95375,     0.95362,     0.95349,\n",
            "            0.95337,     0.95323,       0.953,     0.95278,      0.9524,     0.95207,     0.95193,     0.95178,     0.95164,     0.95104,     0.95083,     0.95062,     0.95054,     0.95054,     0.95054,     0.95054,     0.95054,     0.95054,     0.95054,     0.95054,     0.95054,     0.95054,     0.95054,\n",
            "            0.95054,     0.94993,     0.94982,      0.9497,     0.94959,     0.94947,     0.94921,     0.94894,     0.94886,      0.9488,     0.94874,     0.94868,     0.94862,     0.94855,     0.94849,     0.94843,     0.94837,     0.94823,     0.94809,     0.94796,     0.94783,     0.94783,     0.94781,\n",
            "            0.94731,     0.94686,     0.94623,     0.94564,     0.94535,     0.94511,     0.94441,       0.944,     0.94362,     0.94348,     0.94348,     0.94348,     0.94348,     0.94348,     0.94236,     0.94222,     0.94209,     0.94196,     0.94179,     0.94151,     0.94121,      0.9409,     0.94056,\n",
            "            0.94022,      0.9402,     0.94008,     0.93996,     0.93984,     0.93972,     0.93949,      0.9392,     0.93882,      0.9375,     0.93731,     0.93665,     0.93628,     0.93604,     0.93533,     0.93533,     0.93525,     0.93501,     0.93468,     0.93395,     0.93339,     0.93268,     0.93187,\n",
            "            0.93142,     0.93033,      0.9291,     0.92828,     0.92786,     0.92704,     0.92575,     0.92543,     0.92525,     0.92508,     0.92401,     0.92308,     0.92188,     0.91932,     0.91838,     0.91779,      0.9176,     0.91741,     0.91695,     0.91584,      0.9145,     0.91244,     0.91076,\n",
            "            0.90902,     0.90775,     0.90689,     0.90659,     0.90412,     0.90283,      0.9019,     0.89949,     0.89684,     0.89538,     0.89336,     0.89127,     0.89042,     0.88884,     0.88733,      0.8833,     0.87788,     0.87436,      0.8692,     0.86514,     0.86477,     0.86346,     0.85911,\n",
            "             0.8571,     0.85418,     0.84972,      0.8472,     0.84393,     0.84226,     0.83969,     0.83693,     0.83378,     0.83182,     0.82739,     0.82449,     0.82277,     0.82041,     0.81758,     0.81535,     0.81382,     0.81294,     0.81262,      0.8095,     0.80709,     0.80448,     0.80338,\n",
            "            0.80174,     0.79874,     0.79343,     0.79294,     0.79049,     0.78853,     0.78461,     0.77918,     0.77635,     0.77283,     0.77213,     0.76842,     0.76721,      0.7633,     0.76017,     0.75467,     0.75115,     0.74678,     0.74058,     0.73268,     0.72445,      0.7157,     0.70563,\n",
            "            0.69915,     0.68873,     0.68315,     0.67258,     0.66088,     0.64498,     0.63342,     0.61946,     0.60636,     0.59541,     0.57892,     0.56369,     0.54748,     0.52954,     0.51869,     0.50421,     0.49519,     0.48542,     0.47523,     0.46344,     0.45623,     0.44766,     0.43405,\n",
            "            0.42473,     0.41398,     0.40617,     0.39934,     0.39332,     0.38944,      0.3828,     0.37737,     0.37111,     0.36339,     0.35521,     0.35077,     0.34545,     0.34388,     0.34042,      0.3373,     0.33584,     0.33222,     0.32697,     0.32408,     0.31983,     0.31746,     0.31662,\n",
            "            0.31335,     0.30991,      0.3068,     0.30553,      0.3029,     0.30019,     0.29407,     0.28998,     0.28796,     0.28305,     0.28188,     0.27935,     0.27557,     0.27374,     0.27171,      0.2686,      0.2646,     0.26415,     0.26106,     0.25957,     0.25614,     0.24943,     0.24278,\n",
            "            0.23846,     0.23199,     0.22411,     0.21433,     0.20387,     0.19349,     0.17896,     0.16463,     0.14966,     0.13489,     0.11806,     0.10761,    0.093964,    0.082415,    0.071145,     0.06733,    0.056074,    0.049696,    0.043104,    0.037664,    0.031172,     0.02779,    0.024857,\n",
            "           0.021892,    0.017848,    0.016257,    0.014952,    0.011722,    0.010949,    0.010324,    0.010087,   0.0098488,   0.0073844,   0.0060169,   0.0043452,   0.0033887,   0.0026874,   0.0019864,   0.0015649,   0.0014108,   0.0012567,   0.0011026,           0,           0,           0,           0,\n",
            "                  0,           0,           0,           0,           0,           0,           0,           0,           0,           0,           0,           0,           0,           0,           0,           0,           0,           0,           0,           0,           0,           0,           0,\n",
            "                  0,           0,           0,           0,           0,           0,           0,           0,           0,           0,           0,           0,           0,           0,           0,           0,           0,           0,           0,           0,           0,           0,           0,\n",
            "                  0,           0,           0,           0,           0,           0,           0,           0,           0,           0,           0,           0,           0,           0,           0,           0,           0,           0,           0,           0,           0,           0,           0,\n",
            "                  0,           0,           0,           0,           0,           0,           0,           0,           0,           0,           0]]), 'Confidence', 'Recall']]\n",
            "fitness: 0.7479544128092546\n",
            "keys: ['metrics/precision(B)', 'metrics/recall(B)', 'metrics/mAP50(B)', 'metrics/mAP50-95(B)']\n",
            "maps: array([     0.7215])\n",
            "names: {0: 'License_Plate'}\n",
            "plot: True\n",
            "results_dict: {'metrics/precision(B)': 0.9855354512816755, 'metrics/recall(B)': 0.9627708257483498, 'metrics/mAP50(B)': 0.9860202064302597, 'metrics/mAP50-95(B)': 0.7215026579624763, 'fitness': 0.7479544128092546}\n",
            "save_dir: PosixPath('runs/detect/val')\n",
            "speed: {'preprocess': 0.49902764663480154, 'inference': 4.395869095669927, 'loss': 0.0008439882618847379, 'postprocess': 2.411357809396371}\n",
            "task: 'detect'\n",
            "mAP50: 0.9860\n",
            "mAP50-95: 0.7215\n",
            "Precision: 0.9855\n",
            "Recall: 0.9628\n"
          ]
        }
      ],
      "source": [
        "from ultralytics import YOLO\n",
        "import numpy as np\n",
        "import matplotlib.pyplot as plt\n",
        "\n",
        "# Load your trained model\n",
        "model = YOLO('runs/detect/train/weights/best.pt')  # Replace with the path to your best.pt file\n",
        "\n",
        "# Assuming your validation data is specified in your data.yaml file\n",
        "results = model.val()  # This will run the validation process\n",
        "\n",
        "# Print metrics (mAP50, mAP50-95, precision, recall, etc.)\n",
        "print(results)\n",
        "\n",
        "# Optionally, you can access individual metrics like this:\n",
        "mAP50 = results.box.map50\n",
        "mAP50_95 = results.box.map\n",
        "precision = results.box.p\n",
        "recall = results.box.r\n",
        "\n",
        "print(f\"mAP50: {mAP50:.4f}\")\n",
        "print(f\"mAP50-95: {mAP50_95:.4f}\")\n",
        "print(f\"Precision: {precision.mean():.4f}\")\n",
        "print(f\"Recall: {recall.mean():.4f}\")"
      ]
    },
    {
      "cell_type": "code",
      "execution_count": 9,
      "metadata": {
        "colab": {
          "base_uri": "https://localhost:8080/"
        },
        "id": "XHjnf3c_rnfl",
        "outputId": "2dad9b8c-66e3-4203-b711-b39e6bed66ee"
      },
      "outputs": [
        {
          "output_type": "execute_result",
          "data": {
            "text/plain": [
              "0"
            ]
          },
          "metadata": {},
          "execution_count": 9
        }
      ],
      "source": [
        "os.system(\"zip -r /content/runs.zip /content/runs\")"
      ]
    }
  ],
  "metadata": {
    "accelerator": "GPU",
    "colab": {
      "gpuType": "T4",
      "provenance": [],
      "authorship_tag": "ABX9TyMqedQvdC8BP4gUkzL3Wsgo",
      "include_colab_link": true
    },
    "kernelspec": {
      "display_name": "Python 3",
      "name": "python3"
    },
    "language_info": {
      "name": "python"
    }
  },
  "nbformat": 4,
  "nbformat_minor": 0
}